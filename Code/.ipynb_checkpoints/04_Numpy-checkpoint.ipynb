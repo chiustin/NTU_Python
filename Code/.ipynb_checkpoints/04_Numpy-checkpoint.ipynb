{
 "cells": [
  {
   "cell_type": "markdown",
   "metadata": {},
   "source": [
    "# Sequence vs. Numpy Array"
   ]
  },
  {
   "cell_type": "code",
   "execution_count": 1,
   "metadata": {},
   "outputs": [
    {
     "name": "stdout",
     "output_type": "stream",
     "text": [
      "[0, 1, 2, 0, 1, 2]\n",
      "[0 2 4]\n"
     ]
    }
   ],
   "source": [
    "import numpy as np\n",
    "\n",
    "x = [0, 1, 2]*2            ; print(x)\n",
    "x = np.array([0, 1, 2])*2 ; print(x)"
   ]
  },
  {
   "cell_type": "markdown",
   "metadata": {},
   "source": [
    "# Array Creation "
   ]
  },
  {
   "cell_type": "code",
   "execution_count": 2,
   "metadata": {},
   "outputs": [
    {
     "name": "stdout",
     "output_type": "stream",
     "text": [
      "[0.e+000 5.e-324 1.e-323]\n",
      "[0. 0. 0.]\n",
      "[1. 1. 1.]\n",
      "[2.2 2.2 2.2]\n",
      "[2 2 2]\n",
      "[0 1 2]\n",
      "[0 1 2]\n"
     ]
    }
   ],
   "source": [
    "import numpy as np\n",
    "\n",
    "a = np.empty(3)         ; print(a)\n",
    "a = np.zeros(3)         ; print(a)\n",
    "a = np.ones(3)          ; print(a)\n",
    "a = np.full(3, 2.2)     ; print(a)\n",
    "a = np.full(3, 2)       ; print(a)\n",
    "a = np.arange(3)        ; print(a)\n",
    "a = np.array([0, 1, 2]) ; print(a)"
   ]
  },
  {
   "cell_type": "markdown",
   "metadata": {},
   "source": [
    "# Same Data Type"
   ]
  },
  {
   "cell_type": "code",
   "execution_count": 3,
   "metadata": {},
   "outputs": [
    {
     "name": "stdout",
     "output_type": "stream",
     "text": [
      "[0.e+000 5.e-324 1.e-323]\n",
      "[1.e+000 5.e-324 1.e-323]\n"
     ]
    }
   ],
   "source": [
    "import numpy as np\n",
    "\n",
    "a = np.empty(3)\n",
    "print(a)\n",
    "a[0] = int(1)\n",
    "print(a)"
   ]
  },
  {
   "cell_type": "code",
   "execution_count": 4,
   "metadata": {},
   "outputs": [
    {
     "name": "stdout",
     "output_type": "stream",
     "text": [
      "['1' '2.0' 'NTU']\n"
     ]
    }
   ],
   "source": [
    "import numpy as np\n",
    "\n",
    "a = np.array([1,2.,'NTU'])\n",
    "print(a)"
   ]
  },
  {
   "cell_type": "markdown",
   "metadata": {},
   "source": [
    "# dtype"
   ]
  },
  {
   "cell_type": "code",
   "execution_count": 5,
   "metadata": {},
   "outputs": [
    {
     "name": "stdout",
     "output_type": "stream",
     "text": [
      "[4607182418800017408                   1                   2]\n",
      "[0 0 0]\n",
      "[1 1 1]\n",
      "[2 2 2]\n",
      "[2. 2. 2.]\n",
      "[0. 1. 2.]\n",
      "[0. 1. 2.]\n"
     ]
    }
   ],
   "source": [
    "import numpy as np\n",
    "\n",
    "a = np.empty(3, dtype = int)           ; print(a)\n",
    "a = np.zeros(3, dtype = int)           ; print(a)\n",
    "a = np.ones(3, dtype = int)            ; print(a)\n",
    "a = np.full(3, 2.2, dtype = int)       ; print(a)\n",
    "a = np.full(3, 2, dtype = float)       ; print(a)\n",
    "a = np.arange(3, dtype = float)        ; print(a)\n",
    "a = np.array([0, 1, 2], dtype = float) ; print(a)"
   ]
  },
  {
   "cell_type": "markdown",
   "metadata": {},
   "source": [
    "# N-dimension Array"
   ]
  },
  {
   "cell_type": "code",
   "execution_count": 6,
   "metadata": {},
   "outputs": [
    {
     "name": "stdout",
     "output_type": "stream",
     "text": [
      "empty:\n",
      " [[0. 0. 0.]\n",
      " [0. 0. 0.]\n",
      " [0. 0. 0.]]\n",
      "zeros:\n",
      " [[0. 0. 0.]\n",
      " [0. 0. 0.]\n",
      " [0. 0. 0.]]\n",
      "ones:\n",
      " [[1. 1. 1.]\n",
      " [1. 1. 1.]\n",
      " [1. 1. 1.]]\n",
      "full:\n",
      " [[2 2 2]\n",
      " [2 2 2]\n",
      " [2 2 2]]\n",
      "array:\n",
      " [[0 1 2]\n",
      " [3 4 5]\n",
      " [6 7 8]]\n"
     ]
    }
   ],
   "source": [
    "import numpy as np\n",
    "\n",
    "a = np.empty((3,3))                             ; print(\"empty:\\n\", a)\n",
    "a = np.zeros((3,3))                             ; print(\"zeros:\\n\", a)\n",
    "a = np.ones((3,3))                              ; print(\"ones:\\n\", a)\n",
    "a = np.full((3,3), 2)                           ; print(\"full:\\n\", a)\n",
    "a = np.array([ [0, 1, 2],[3, 4, 5],[6, 7, 8] ]) ; print(\"array:\\n\", a)"
   ]
  },
  {
   "cell_type": "code",
   "execution_count": 7,
   "metadata": {},
   "outputs": [
    {
     "name": "stdout",
     "output_type": "stream",
     "text": [
      "array:\n",
      " [[0 1 2]\n",
      " [3 4 5]\n",
      " [6 7 8]]\n",
      "array:\n",
      " [[0 1 2]\n",
      " [3 4 5]\n",
      " [6 7 8]]\n",
      "array:\n",
      " [[0 1 2]\n",
      " [3 4 5]\n",
      " [6 7 8]]\n"
     ]
    }
   ],
   "source": [
    "import numpy as np\n",
    "\n",
    "a = np.array([ [0, 1, 2],[3, 4, 5],[6, 7, 8] ])            ; print(\"array:\\n\", a)\n",
    "a = np.array([ [0, 1, 2, 3, 4, 5, 6, 7, 8] ]).reshape(3,3) ; print(\"array:\\n\", a)\n",
    "a = np.arange(9).reshape(3,3)                              ; print(\"array:\\n\", a)"
   ]
  },
  {
   "cell_type": "code",
   "execution_count": 8,
   "metadata": {},
   "outputs": [
    {
     "name": "stdout",
     "output_type": "stream",
     "text": [
      "[3 4 5] <class 'numpy.ndarray'>\n"
     ]
    }
   ],
   "source": [
    "import numpy as np\n",
    "\n",
    "a = np.array([ [0, 1, 2],[3, 4, 5],[6, 7, 8] ])\n",
    "print(a[1],type(a[1]))"
   ]
  },
  {
   "cell_type": "markdown",
   "metadata": {},
   "source": [
    "# reshape"
   ]
  },
  {
   "cell_type": "code",
   "execution_count": 9,
   "metadata": {
    "scrolled": true
   },
   "outputs": [
    {
     "name": "stdout",
     "output_type": "stream",
     "text": [
      "array:\n",
      " [0 1 2 3 4 5] shape = (6,)\n",
      "array:\n",
      " [[0 1 2]\n",
      " [3 4 5]] shape = (2, 3)\n",
      "array:\n",
      " [[0 1]\n",
      " [2 3]\n",
      " [4 5]] shape = (3, 2)\n"
     ]
    }
   ],
   "source": [
    "import numpy as np\n",
    "\n",
    "a = np.arange(6)   ; print(\"array:\\n\", a, 'shape =', a.shape)\n",
    "a = a.reshape(2,3) ; print(\"array:\\n\", a, 'shape =', a.shape)\n",
    "a = a.reshape(3,2) ; print(\"array:\\n\", a, 'shape =', a.shape)"
   ]
  },
  {
   "cell_type": "code",
   "execution_count": 10,
   "metadata": {},
   "outputs": [
    {
     "name": "stdout",
     "output_type": "stream",
     "text": [
      "[0 1 2 3 4 5] , shape = (6,)\n",
      "[[0 1 2 3 4 5]] , shape = (1, 6)\n",
      "[[0]\n",
      " [1]\n",
      " [2]\n",
      " [3]\n",
      " [4]\n",
      " [5]] , shape = (6, 1)\n"
     ]
    }
   ],
   "source": [
    "import numpy as np\n",
    "\n",
    "#1-Dimension\n",
    "a = np.arange(6)              ; print(a, ', shape =', a.shape)\n",
    "#2-Dimension\n",
    "a = np.arange(6).reshape(1,6) ; print(a, ', shape =', a.shape)\n",
    "a = np.arange(6).reshape(6,1) ; print(a, ', shape =', a.shape)"
   ]
  },
  {
   "cell_type": "markdown",
   "metadata": {},
   "source": [
    "# Get value"
   ]
  },
  {
   "cell_type": "code",
   "execution_count": 11,
   "metadata": {},
   "outputs": [
    {
     "name": "stdout",
     "output_type": "stream",
     "text": [
      "[[0 1 2]\n",
      " [3 4 5]\n",
      " [6 7 8]]\n",
      "[[3 4 5]\n",
      " [6 7 8]] (2, 3)\n",
      "[6 7 8] (3,)\n",
      "[4 7] (2,)\n"
     ]
    }
   ],
   "source": [
    "import numpy as np\n",
    "\n",
    "a = np.arange(9).reshape(3,3)\n",
    "print(a)\n",
    "print(a[1:], a[1:].shape)\n",
    "print(a[1:][1], a[1:][1].shape) \n",
    "print(a[1:,1], a[1:,1].shape)"
   ]
  },
  {
   "cell_type": "markdown",
   "metadata": {},
   "source": [
    "# Index"
   ]
  },
  {
   "cell_type": "code",
   "execution_count": 12,
   "metadata": {},
   "outputs": [
    {
     "name": "stdout",
     "output_type": "stream",
     "text": [
      "1\n",
      "[[ 0  0  0]\n",
      " [ 0  1  0]\n",
      " [ 0 10  2]]\n",
      "[0 1 0]\n"
     ]
    }
   ],
   "source": [
    "import numpy as np\n",
    "\n",
    "a = np.array([[0, 0, 0], [0, 1, 0], [0, 0, 2]])\n",
    "print(a[1, 1])\n",
    "a[2, 1] = 10 ; print(a)\n",
    "print(a[1])"
   ]
  },
  {
   "cell_type": "markdown",
   "metadata": {},
   "source": [
    "# Slice"
   ]
  },
  {
   "cell_type": "code",
   "execution_count": 13,
   "metadata": {},
   "outputs": [
    {
     "name": "stdout",
     "output_type": "stream",
     "text": [
      "[2 3]\n",
      "[[18 19]\n",
      " [23 24]]\n",
      "[ 1  6 11 16 21]\n",
      "[[10 12 14]\n",
      " [20 22 24]]\n"
     ]
    }
   ],
   "source": [
    "import numpy as np\n",
    "\n",
    "a = np.arange(25).reshape(5,5)\n",
    "print(a[0, 2:4])\n",
    "print(a[3:, 3:])\n",
    "print(a[:, 1])\n",
    "print(a[2::2, ::2])"
   ]
  },
  {
   "cell_type": "markdown",
   "metadata": {},
   "source": [
    "# Sum"
   ]
  },
  {
   "cell_type": "code",
   "execution_count": 15,
   "metadata": {},
   "outputs": [
    {
     "name": "stdout",
     "output_type": "stream",
     "text": [
      "10\n",
      "[3 3]\n",
      "3 3\n",
      "[2 4]\n",
      "2 4\n"
     ]
    }
   ],
   "source": [
    "import numpy as np\n",
    "\n",
    "x = np.array([ [1, 2, 3, 4] ]) \n",
    "print(np.sum(x)) # => 10 \n",
    "x = np.array([ [1, 1], [2, 2] ]) \n",
    "print(x.sum(axis=0)) # columns (first dimension) [3 3]\n",
    "print(x[:, 0].sum(), x[:, 1].sum()) # => 3 3 \n",
    "print(x.sum(axis=1)) # rows (second dimension) [2 4] \n",
    "print(x[0, :].sum(), x[1, :].sum()) # => 2 4"
   ]
  },
  {
   "cell_type": "markdown",
   "metadata": {},
   "source": [
    "# Statistics"
   ]
  },
  {
   "cell_type": "code",
   "execution_count": 16,
   "metadata": {},
   "outputs": [
    {
     "name": "stdout",
     "output_type": "stream",
     "text": [
      "1.75\n",
      "1.5\n",
      "0.82915619758885\n"
     ]
    }
   ],
   "source": [
    "import numpy as np\n",
    "\n",
    "x = np.array([1, 2, 3, 1])\n",
    "print(x.mean()) # => 1.75 \n",
    "print(np.median(x)) # => 1.5\n",
    "print(x.std()) # => 0.82915619758885"
   ]
  },
  {
   "cell_type": "markdown",
   "metadata": {},
   "source": [
    "# Extrema"
   ]
  },
  {
   "cell_type": "code",
   "execution_count": 17,
   "metadata": {},
   "outputs": [
    {
     "name": "stdout",
     "output_type": "stream",
     "text": [
      "1\n",
      "3\n"
     ]
    }
   ],
   "source": [
    "import numpy as np\n",
    "\n",
    "x = np.array([1, 3, 2]) \n",
    "print(x.min()) # => 1 \n",
    "print(x.max()) # => 3"
   ]
  },
  {
   "cell_type": "markdown",
   "metadata": {},
   "source": [
    "# Transpose and Inverse "
   ]
  },
  {
   "cell_type": "code",
   "execution_count": 18,
   "metadata": {},
   "outputs": [
    {
     "name": "stdout",
     "output_type": "stream",
     "text": [
      "[[1 4 7]\n",
      " [2 5 8]\n",
      " [3 6 9]]\n"
     ]
    }
   ],
   "source": [
    "import numpy as np\n",
    "\n",
    "A = np.array([ [1, 2, 3], [4, 5, 6], [7, 8, 9] ])\n",
    "AT = A.T\n",
    "print(AT)"
   ]
  },
  {
   "cell_type": "code",
   "execution_count": 19,
   "metadata": {},
   "outputs": [
    {
     "name": "stdout",
     "output_type": "stream",
     "text": [
      "[[-2.   1. ]\n",
      " [ 1.5 -0.5]]\n"
     ]
    }
   ],
   "source": [
    "import numpy as np\n",
    "\n",
    "A = np.array([ [1, 2], [3, 4] ])\n",
    "Ainv = np.linalg.inv(A)\n",
    "print(Ainv)"
   ]
  },
  {
   "cell_type": "markdown",
   "metadata": {},
   "source": [
    "# Matrix-Scalar Operations"
   ]
  },
  {
   "cell_type": "code",
   "execution_count": 20,
   "metadata": {},
   "outputs": [
    {
     "name": "stdout",
     "output_type": "stream",
     "text": [
      "[[0 1 2]\n",
      " [3 4 5]\n",
      " [6 7 8]]\n",
      "[[1 2 3]\n",
      " [4 5 6]\n",
      " [7 8 9]]\n",
      "[[ 0  2  4]\n",
      " [ 6  8 10]\n",
      " [12 14 16]]\n",
      "[[ 0  1  4]\n",
      " [ 9 16 25]\n",
      " [36 49 64]]\n",
      "[[  1   2   4]\n",
      " [  8  16  32]\n",
      " [ 64 128 256]]\n"
     ]
    }
   ],
   "source": [
    "import numpy as np\n",
    "\n",
    "a = np.arange(9).reshape(3,3) ;print(a)\n",
    "b = a + 1                     ;print(b)\n",
    "c = a * 2                     ;print(c)\n",
    "d = a ** 2                    ;print(d)\n",
    "e = 2 ** a                    ;print(e)"
   ]
  },
  {
   "cell_type": "markdown",
   "metadata": {},
   "source": [
    "# Matrix-Matrix Operations"
   ]
  },
  {
   "cell_type": "code",
   "execution_count": 21,
   "metadata": {},
   "outputs": [
    {
     "name": "stdout",
     "output_type": "stream",
     "text": [
      "[[-2. -1.  0.]\n",
      " [ 1.  2.  3.]\n",
      " [ 4.  5.  6.]]\n",
      "[[ 0.  2.  4.]\n",
      " [ 6.  8. 10.]\n",
      " [12. 14. 16.]]\n",
      "[[ 6.  6.  6.]\n",
      " [24. 24. 24.]\n",
      " [42. 42. 42.]]\n"
     ]
    }
   ],
   "source": [
    "import numpy as np\n",
    "\n",
    "a = np.arange(9).reshape(3,3)\n",
    "b = np.ones(9).reshape(3,3)+1\n",
    "\n",
    "print(a - b)\n",
    "print(a * b)\n",
    "print(a @ b)"
   ]
  },
  {
   "cell_type": "markdown",
   "metadata": {},
   "source": [
    "# Practice"
   ]
  },
  {
   "cell_type": "code",
   "execution_count": 22,
   "metadata": {},
   "outputs": [
    {
     "name": "stdout",
     "output_type": "stream",
     "text": [
      "[[3.]\n",
      " [5.]]\n"
     ]
    }
   ],
   "source": [
    "import numpy as np\n",
    "'''\n",
    "2x+3y=21\n",
    "4x+2y=22\n",
    "''' \n",
    "A = np.array([[2,3],[4,2]])\n",
    "B = np.array([21,22]).reshape(2,1)\n",
    "a = A[0,0]\n",
    "b = A[0,1]\n",
    "c = A[1,0]\n",
    "d = A[1,1]\n",
    "invA = [ [d,-b], [-c,d] ] / (a*d-b*c)\n",
    "X = invA @ B ; print(X)"
   ]
  },
  {
   "cell_type": "code",
   "execution_count": 23,
   "metadata": {},
   "outputs": [
    {
     "name": "stdout",
     "output_type": "stream",
     "text": [
      "[[3.]\n",
      " [5.]]\n"
     ]
    }
   ],
   "source": [
    "import numpy as np\n",
    "\n",
    "A = np.array([[2,3],[4,2]])\n",
    "B = np.array([ [21,22] ]).T\n",
    "X = np.linalg.inv(A) @ B; print(X)"
   ]
  }
 ],
 "metadata": {
  "kernelspec": {
   "display_name": "Python 3",
   "language": "python",
   "name": "python3"
  },
  "language_info": {
   "codemirror_mode": {
    "name": "ipython",
    "version": 3
   },
   "file_extension": ".py",
   "mimetype": "text/x-python",
   "name": "python",
   "nbconvert_exporter": "python",
   "pygments_lexer": "ipython3",
   "version": "3.7.4"
  }
 },
 "nbformat": 4,
 "nbformat_minor": 4
}
