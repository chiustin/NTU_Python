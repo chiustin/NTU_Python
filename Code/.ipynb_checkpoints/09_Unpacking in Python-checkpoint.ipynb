{
 "cells": [
  {
   "cell_type": "markdown",
   "metadata": {},
   "source": [
    "# Unpacking Tuple/List in Python"
   ]
  },
  {
   "cell_type": "code",
   "execution_count": 1,
   "metadata": {},
   "outputs": [
    {
     "name": "stdout",
     "output_type": "stream",
     "text": [
      "140 <class 'int'>\n",
      "114 <class 'int'>\n",
      "46 <class 'int'>\n"
     ]
    }
   ],
   "source": [
    "IP = [140, 114, 46]\n",
    "TANet, NTHU, CHE = IP\n",
    "\n",
    "print(TANet, type(TANet))\n",
    "print(NTHU, type(NTHU))\n",
    "print(CHE,type(CHE))"
   ]
  },
  {
   "cell_type": "code",
   "execution_count": 2,
   "metadata": {},
   "outputs": [
    {
     "name": "stdout",
     "output_type": "stream",
     "text": [
      "140 <class 'int'>\n",
      "114 <class 'int'>\n",
      "46 <class 'int'>\n"
     ]
    }
   ],
   "source": [
    "IP = 140, 114, 46 #IP = (140,114,46)\n",
    "TANet, NTHU, CHE = IP\n",
    "\n",
    "print(TANet, type(TANet))\n",
    "print(NTHU, type(NTHU))\n",
    "print(CHE, type(CHE))"
   ]
  },
  {
   "cell_type": "markdown",
   "metadata": {},
   "source": [
    "# Unpacking Nested Tuple (List)"
   ]
  },
  {
   "cell_type": "code",
   "execution_count": 3,
   "metadata": {},
   "outputs": [
    {
     "name": "stdout",
     "output_type": "stream",
     "text": [
      "140 <class 'int'>\n",
      "114 <class 'int'>\n",
      "(46, 47) <class 'tuple'>\n"
     ]
    }
   ],
   "source": [
    "IP = (140, 114, (46, 47))\n",
    "TANet, NTHU, CHE = IP\n",
    "\n",
    "print(TANet, type(TANet))\n",
    "print(NTHU, type(NTHU))\n",
    "print(CHE, type(CHE))"
   ]
  },
  {
   "cell_type": "code",
   "execution_count": 4,
   "metadata": {},
   "outputs": [
    {
     "name": "stdout",
     "output_type": "stream",
     "text": [
      "140 <class 'int'>\n",
      "114 <class 'int'>\n",
      "46 <class 'int'>\n",
      "47 <class 'int'>\n"
     ]
    }
   ],
   "source": [
    "IP = (140, 114, (46, 47))\n",
    "TANet, NTHU, (CHE1, CHE2) = IP\n",
    "\n",
    "print(TANet, type(TANet))\n",
    "print(NTHU, type(NTHU))\n",
    "print(CHE1, type(CHE1))\n",
    "print(CHE2, type(CHE2))"
   ]
  },
  {
   "cell_type": "markdown",
   "metadata": {},
   "source": [
    "# Dropping Unneeded Values with _"
   ]
  },
  {
   "cell_type": "code",
   "execution_count": 5,
   "metadata": {
    "scrolled": true
   },
   "outputs": [
    {
     "name": "stdout",
     "output_type": "stream",
     "text": [
      "140 <class 'int'>\n",
      "114 <class 'int'>\n",
      "(46, 47) <class 'tuple'>\n"
     ]
    }
   ],
   "source": [
    "IP = (140, 114, (46, 47))\n",
    "TANet, NTHU, _ = IP\n",
    "\n",
    "print(TANet, type(TANet))\n",
    "print(NTHU, type(NTHU))\n",
    "print(_, type(_))"
   ]
  },
  {
   "cell_type": "markdown",
   "metadata": {},
   "source": [
    "# Unpacking Tuple (List) with *"
   ]
  },
  {
   "cell_type": "code",
   "execution_count": 6,
   "metadata": {},
   "outputs": [
    {
     "name": "stdout",
     "output_type": "stream",
     "text": [
      "140 <class 'int'>\n",
      "114 <class 'int'>\n",
      "46 <class 'int'>\n",
      "[1, 2, 3, 4, 5] <class 'list'>\n",
      "1 2 3 4 5\n"
     ]
    }
   ],
   "source": [
    "IP = (140, 114, 46, 1, 2, 3, 4, 5)\n",
    "TANet, NTHU, CHE, *Lab = IP\n",
    "\n",
    "print(TANet, type(TANet))\n",
    "print(NTHU, type(NTHU))\n",
    "print(CHE, type(CHE))\n",
    "print(Lab, type(Lab))\n",
    "print(*Lab) #iterator cannot use type"
   ]
  },
  {
   "cell_type": "markdown",
   "metadata": {},
   "source": [
    "# Dropping Unneeded Values with *_"
   ]
  },
  {
   "cell_type": "code",
   "execution_count": 7,
   "metadata": {
    "scrolled": true
   },
   "outputs": [
    {
     "name": "stdout",
     "output_type": "stream",
     "text": [
      "140 <class 'int'>\n",
      "114 <class 'int'>\n",
      "46 <class 'int'>\n",
      "[1, 2, 3, 4, 5] <class 'list'>\n",
      "1 2 3 4 5\n"
     ]
    }
   ],
   "source": [
    "IP = (140, 114, 46, 1, 2, 3, 4, 5)\n",
    "TANet, NTHU, CHE, *_ = IP\n",
    "\n",
    "print(TANet, type(TANet))\n",
    "print(NTHU, type(NTHU))\n",
    "print(CHE, type(CHE))\n",
    "print(_, type(_))\n",
    "print(*_) #iterator cannot use type"
   ]
  },
  {
   "cell_type": "code",
   "execution_count": 9,
   "metadata": {},
   "outputs": [
    {
     "name": "stdout",
     "output_type": "stream",
     "text": [
      "140 <class 'int'>\n",
      "114 <class 'int'>\n",
      "46 <class 'int'>\n",
      "[] <class 'list'>\n",
      "<class 'list'>\n"
     ]
    }
   ],
   "source": [
    "IP = (140, 114, 46)\n",
    "TANet, NTHU, CHE, *_ = IP\n",
    "\n",
    "print(TANet, type(TANet))\n",
    "print(NTHU, type(NTHU))\n",
    "print(CHE, type(CHE))\n",
    "print(_, type(_))\n",
    "print(*_, type(_))"
   ]
  },
  {
   "cell_type": "markdown",
   "metadata": {},
   "source": [
    "# Merging Iterables with *"
   ]
  },
  {
   "cell_type": "code",
   "execution_count": 10,
   "metadata": {},
   "outputs": [
    {
     "name": "stdout",
     "output_type": "stream",
     "text": [
      "(0, 1, 2, 3, 4, 5, 6, 7, 8, 9, 10)\n"
     ]
    }
   ],
   "source": [
    "insert = [i for i in range(1,10)]\n",
    "merge = (0, *insert, 10)\n",
    "print(merge)"
   ]
  },
  {
   "cell_type": "markdown",
   "metadata": {},
   "source": [
    "# Unpacking Dictionaries in Python"
   ]
  },
  {
   "cell_type": "code",
   "execution_count": 10,
   "metadata": {},
   "outputs": [
    {
     "name": "stdout",
     "output_type": "stream",
     "text": [
      "TANet NTHU CHE\n",
      "140 114 46\n",
      "('TANet', 140) ('NTHU', 114) ('CHE', 46)\n"
     ]
    }
   ],
   "source": [
    "IP = {\"TANet\":140, \"NTHU\":114, \"CHE\":46}\n",
    "\n",
    "a,b,c = IP\n",
    "print(a,b,c)\n",
    "a,b,c = IP.values()\n",
    "print(a,b,c)\n",
    "a,b,c = IP.items()\n",
    "print(a,b,c)"
   ]
  },
  {
   "cell_type": "markdown",
   "metadata": {},
   "source": [
    "# Packing Dictionaries with **"
   ]
  },
  {
   "cell_type": "code",
   "execution_count": 11,
   "metadata": {},
   "outputs": [
    {
     "name": "stdout",
     "output_type": "stream",
     "text": [
      "{'TANet': 140, 'NTHU': 114, 'CHE': 46}\n"
     ]
    }
   ],
   "source": [
    "IP = {\"TANet\":140, \"NTHU\":114, \"CHE\":46}\n",
    "\n",
    "print({**IP})"
   ]
  },
  {
   "cell_type": "markdown",
   "metadata": {},
   "source": [
    "# Merging Dict with **"
   ]
  },
  {
   "cell_type": "code",
   "execution_count": 12,
   "metadata": {},
   "outputs": [
    {
     "name": "stdout",
     "output_type": "stream",
     "text": [
      "{'TANet': 140, 'NTHU': 114, 'CHE1': 46, 'CHE2': 47}\n"
     ]
    }
   ],
   "source": [
    "IP = {\"TANet\":140, \"NTHU\":114}\n",
    "\n",
    "print(dict({**IP}, CHE1=46, CHE2=47))"
   ]
  },
  {
   "cell_type": "code",
   "execution_count": 13,
   "metadata": {},
   "outputs": [
    {
     "name": "stdout",
     "output_type": "stream",
     "text": [
      "{'x': 2}\n",
      "{'x': 1}\n"
     ]
    }
   ],
   "source": [
    "#https://www.python.org/dev/peps/pep-0448/\n",
    "print({'x': 1, **{'x': 2}})\n",
    "print({**{'x': 2}, 'x': 1})"
   ]
  }
 ],
 "metadata": {
  "kernelspec": {
   "display_name": "Python 3",
   "language": "python",
   "name": "python3"
  },
  "language_info": {
   "codemirror_mode": {
    "name": "ipython",
    "version": 3
   },
   "file_extension": ".py",
   "mimetype": "text/x-python",
   "name": "python",
   "nbconvert_exporter": "python",
   "pygments_lexer": "ipython3",
   "version": "3.7.4"
  }
 },
 "nbformat": 4,
 "nbformat_minor": 4
}
