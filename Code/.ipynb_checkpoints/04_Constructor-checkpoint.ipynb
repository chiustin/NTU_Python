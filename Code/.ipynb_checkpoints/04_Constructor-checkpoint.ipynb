{
 "cells": [
  {
   "cell_type": "markdown",
   "metadata": {},
   "source": [
    "# list()"
   ]
  },
  {
   "cell_type": "code",
   "execution_count": 1,
   "metadata": {
    "scrolled": true
   },
   "outputs": [
    {
     "name": "stdout",
     "output_type": "stream",
     "text": [
      "[]\n",
      "['N', 'T', 'H', 'U', 'C', 'H', 'E']\n",
      "['NTHUCHE']\n",
      "['NTHUCHE']\n"
     ]
    }
   ],
   "source": [
    "#Create list from empty list\n",
    "a = list() # => [ ]\n",
    "print(a)\n",
    "\n",
    "#Create list from string\n",
    "String = 'NTHUCHE'\n",
    "a = list(String) # => ['N', 'T', 'H', 'U', 'C', 'H', 'E' ]\n",
    "print(a)\n",
    "\n",
    "#Create list from list\n",
    "List = ['NTHUCHE']\n",
    "a = list(List) # => ['NTHUCHE']\n",
    "print(a)\n",
    "\n",
    "#Create list from tuple\n",
    "Tuple = ('NTHUCHE',)\n",
    "a = list(Tuple) # => ['NTHUCHE']\n",
    "print(a)"
   ]
  },
  {
   "cell_type": "markdown",
   "metadata": {},
   "source": [
    "# tuple()"
   ]
  },
  {
   "cell_type": "code",
   "execution_count": 2,
   "metadata": {
    "scrolled": true
   },
   "outputs": [
    {
     "name": "stdout",
     "output_type": "stream",
     "text": [
      "()\n",
      "('N', 'T', 'H', 'U', 'C', 'H', 'E')\n",
      "('NTHUCHE',)\n",
      "('NTHUCHE',)\n"
     ]
    }
   ],
   "source": [
    "#Create tuple from empty list\n",
    "print(tuple())\n",
    "\n",
    "#Create tuple from string\n",
    "String = 'NTHUCHE'\n",
    "print(tuple(String))\n",
    "\n",
    "#Create tuple from list\n",
    "List = ['NTHUCHE']\n",
    "print(tuple(List))\n",
    "\n",
    "#Create tuple from tuple\n",
    "Tuple = ('NTHUCHE',)\n",
    "print(tuple(Tuple))"
   ]
  },
  {
   "cell_type": "markdown",
   "metadata": {},
   "source": [
    "# dict()"
   ]
  },
  {
   "cell_type": "markdown",
   "metadata": {},
   "source": [
    "## Create Dictionary with keyword arguments \"only\""
   ]
  },
  {
   "cell_type": "code",
   "execution_count": 3,
   "metadata": {},
   "outputs": [
    {
     "name": "stdout",
     "output_type": "stream",
     "text": [
      "a = {}\n",
      "a = {'x': 5, 'y': 0}\n"
     ]
    }
   ],
   "source": [
    "#Create dict from empty dict\n",
    "a = dict()\n",
    "print('a =', a)\n",
    "\n",
    "#Create dict from keyword arguments \"only\"\n",
    "a = dict(x=5, y=0) # keyword argument \n",
    "print('a =', a)"
   ]
  },
  {
   "cell_type": "markdown",
   "metadata": {},
   "source": [
    "## Create Dictionary with List/Tuple"
   ]
  },
  {
   "cell_type": "code",
   "execution_count": 4,
   "metadata": {
    "scrolled": true
   },
   "outputs": [
    {
     "name": "stdout",
     "output_type": "stream",
     "text": [
      "numbers1 = {'x': 5, 'y': -5}\n",
      "numbers1 = {'x': 5, 'y': -5}\n"
     ]
    }
   ],
   "source": [
    "#Create dict from list\n",
    "numbers1 = dict([('x', 5), ('y', -5)])\n",
    "print('numbers1 =',numbers1)\n",
    "\n",
    "#Create dict from tuple\n",
    "numbers1 = dict((('x', 5), ('y', -5)))\n",
    "print('numbers1 =',numbers1)"
   ]
  },
  {
   "cell_type": "markdown",
   "metadata": {},
   "source": [
    "## Create Dictionary with List/Tuple and keyword argument"
   ]
  },
  {
   "cell_type": "code",
   "execution_count": 5,
   "metadata": {},
   "outputs": [
    {
     "name": "stdout",
     "output_type": "stream",
     "text": [
      "numbers2 = {'x': 5, 'y': -5, 'z': 8}\n"
     ]
    },
    {
     "data": {
      "text/plain": [
       "\"SyntaxError: positional argument follows keyword argument\\nnumbers2 = dict(z=8, [('x', 5), ('y', -5)])\\nprint('numbers2 =',numbers2)\\n\""
      ]
     },
     "execution_count": 5,
     "metadata": {},
     "output_type": "execute_result"
    }
   ],
   "source": [
    "#Create dict from list and keyword argument \n",
    "numbers2 = dict([('x', 5), ('y', -5)], z=8)\n",
    "print('numbers2 =',numbers2)\n",
    "\n",
    "'''SyntaxError: positional argument follows keyword argument\n",
    "numbers2 = dict(z=8, [('x', 5), ('y', -5)])\n",
    "print('numbers2 =',numbers2)\n",
    "'''"
   ]
  },
  {
   "cell_type": "markdown",
   "metadata": {},
   "source": [
    "# Create Dictionary with Mapping { }"
   ]
  },
  {
   "cell_type": "code",
   "execution_count": 6,
   "metadata": {
    "scrolled": true
   },
   "outputs": [
    {
     "name": "stdout",
     "output_type": "stream",
     "text": [
      "numbers1 = {'x': 4, 'y': 5}\n",
      "numbers3 = {'x': 4, 'y': 5, 'z': 8}\n"
     ]
    },
    {
     "data": {
      "text/plain": [
       "\"TypeError: dict expected at most 1 arguments, got 2\\nnumbers3 = dict({'x': 4, 'y': 5}, [('z', 8)])\\nprint('numbers3 =',numbers3)\\n\""
      ]
     },
     "execution_count": 6,
     "metadata": {},
     "output_type": "execute_result"
    }
   ],
   "source": [
    "numbers1 = dict({'x': 4, 'y': 5})\n",
    "print('numbers1 =',numbers1)\n",
    "\n",
    "# keyword argument is also passed\n",
    "numbers3 = dict({'x': 4, 'y': 5}, z=8)\n",
    "print('numbers3 =',numbers3)\n",
    "\n",
    "'''TypeError: dict expected at most 1 arguments, got 2\n",
    "numbers3 = dict({'x': 4, 'y': 5}, [('z', 8)])\n",
    "print('numbers3 =',numbers3)\n",
    "'''"
   ]
  }
 ],
 "metadata": {
  "kernelspec": {
   "display_name": "Python 3",
   "language": "python",
   "name": "python3"
  },
  "language_info": {
   "codemirror_mode": {
    "name": "ipython",
    "version": 3
   },
   "file_extension": ".py",
   "mimetype": "text/x-python",
   "name": "python",
   "nbconvert_exporter": "python",
   "pygments_lexer": "ipython3",
   "version": "3.7.4"
  }
 },
 "nbformat": 4,
 "nbformat_minor": 2
}
