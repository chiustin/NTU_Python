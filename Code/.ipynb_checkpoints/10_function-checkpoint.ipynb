{
 "cells": [
  {
   "cell_type": "markdown",
   "metadata": {},
   "source": [
    "# Defining Functions"
   ]
  },
  {
   "cell_type": "code",
   "execution_count": 1,
   "metadata": {},
   "outputs": [
    {
     "name": "stdout",
     "output_type": "stream",
     "text": [
      "School= NTHU\n",
      "Year= 109\n",
      "Number= 2\n"
     ]
    }
   ],
   "source": [
    "def fun(school, year, number):\n",
    "    print(\"School=\", school)\n",
    "    print(\"Year=\", year)\n",
    "    print(\"Number=\", number)\n",
    "    \n",
    "fun(\"NTHU\", 109, 2)"
   ]
  },
  {
   "cell_type": "markdown",
   "metadata": {},
   "source": [
    "# Default Argument"
   ]
  },
  {
   "cell_type": "code",
   "execution_count": 2,
   "metadata": {},
   "outputs": [
    {
     "name": "stdout",
     "output_type": "stream",
     "text": [
      "School= NTHU\n",
      "Year= 108\n",
      "Number= 1\n",
      "School= NTHU\n",
      "Year= 109\n",
      "Number= 2\n"
     ]
    }
   ],
   "source": [
    "def fun(school, year=108, number=1):\n",
    "    print(\"School=\", school)\n",
    "    print(\"Year=\", year)\n",
    "    print(\"Number=\", number)\n",
    "    \n",
    "fun(\"NTHU\")\n",
    "fun(\"NTHU\", 109, 2)"
   ]
  },
  {
   "cell_type": "markdown",
   "metadata": {},
   "source": [
    "# Keyword Arguments"
   ]
  },
  {
   "cell_type": "code",
   "execution_count": 3,
   "metadata": {},
   "outputs": [
    {
     "name": "stdout",
     "output_type": "stream",
     "text": [
      "School= NTHU\n",
      "Year= 109\n",
      "Number= 1\n"
     ]
    }
   ],
   "source": [
    "def fun(school, year, number):\n",
    "    print(\"School=\", school)\n",
    "    print(\"Year=\", year)\n",
    "    print(\"Number=\", number)\n",
    "    \n",
    "fun(number=1, year=109, school=\"NTHU\")"
   ]
  },
  {
   "cell_type": "markdown",
   "metadata": {},
   "source": [
    "# Packing into Arguments"
   ]
  },
  {
   "cell_type": "code",
   "execution_count": 4,
   "metadata": {},
   "outputs": [
    {
     "name": "stdout",
     "output_type": "stream",
     "text": [
      "args= ('NTHU', 109, 1) type= <class 'tuple'>\n",
      "School= NTHU\n",
      "Year= 109\n",
      "Number= 1\n"
     ]
    }
   ],
   "source": [
    "def fun(*args):\n",
    "    print(\"args=\", args, \"type=\", type(args))\n",
    "    print(\"School=\", args[0])\n",
    "    print(\"Year=\", args[1])\n",
    "    print(\"Number=\", args[2])\n",
    "\n",
    "fun(\"NTHU\", 109, 1)"
   ]
  },
  {
   "cell_type": "markdown",
   "metadata": {},
   "source": [
    "# Unpacking into Arguments "
   ]
  },
  {
   "cell_type": "code",
   "execution_count": 5,
   "metadata": {},
   "outputs": [
    {
     "name": "stdout",
     "output_type": "stream",
     "text": [
      "*args= NTHU 109 1\n",
      "School= NTHU\n",
      "Year= 109\n",
      "Number= 1\n"
     ]
    }
   ],
   "source": [
    "def fun(school, year, number):\n",
    "    print(\"School=\", school)\n",
    "    print(\"Year=\", year)\n",
    "    print(\"Number=\", number)\n",
    "    \n",
    "args = [\"NTHU\", 109, 1]\n",
    "print(\"*args=\", *args)\n",
    "fun(*args)"
   ]
  },
  {
   "cell_type": "markdown",
   "metadata": {},
   "source": [
    "# Unpacking and Packing into Arguments"
   ]
  },
  {
   "cell_type": "code",
   "execution_count": 6,
   "metadata": {},
   "outputs": [
    {
     "name": "stdout",
     "output_type": "stream",
     "text": [
      "args= ('NTHU', 109, 1) type= <class 'tuple'>\n",
      "School= NTHU\n",
      "Year= 109\n",
      "Number= 1\n"
     ]
    }
   ],
   "source": [
    "def fun(*args):\n",
    "    print(\"args=\", args, \"type=\", type(args))\n",
    "    print(\"School=\", args[0])\n",
    "    print(\"Year=\", args[1])\n",
    "    print(\"Number=\", args[2])\n",
    "\n",
    "args = [\"NTHU\", 109, 1]\n",
    "fun(*args)"
   ]
  },
  {
   "cell_type": "markdown",
   "metadata": {},
   "source": [
    "# Packing Dict into Keyword Arguments"
   ]
  },
  {
   "cell_type": "code",
   "execution_count": 7,
   "metadata": {},
   "outputs": [
    {
     "name": "stdout",
     "output_type": "stream",
     "text": [
      "kwargs= {'school': 'NTHU', 'year': 109, 'number': 1} type= <class 'dict'>\n",
      "school= NTHU\n",
      "year= 109\n",
      "number= 1\n"
     ]
    }
   ],
   "source": [
    "def fun(**kwargs):\n",
    "    print(\"kwargs=\", kwargs, \"type=\", type(kwargs))\n",
    "    print(\"school=\", kwargs['school'])\n",
    "    print(\"year=\", kwargs['year'])\n",
    "    print(\"number=\", kwargs['number'])\n",
    "  \n",
    "fun(school=\"NTHU\", year=109, number=1)\n",
    "#fun([(\"school\", \"NTHU\"), (\"year\", 109), (\"number\",1)]) #TypeError\n",
    "#fun({\"school\":\"NTHU\", \"year\":109, \"number\":1}) #TypeError"
   ]
  },
  {
   "cell_type": "markdown",
   "metadata": {},
   "source": [
    "# Unpacking Dict into Keyword Arguments "
   ]
  },
  {
   "cell_type": "code",
   "execution_count": 8,
   "metadata": {},
   "outputs": [
    {
     "name": "stdout",
     "output_type": "stream",
     "text": [
      "school= NTHU\n",
      "year= 109\n",
      "number= 1\n"
     ]
    }
   ],
   "source": [
    "def fun(school, year, number): \n",
    "    print(\"school=\", school)\n",
    "    print(\"year=\", year)\n",
    "    print(\"number=\", number)\n",
    "  \n",
    "kwargs = {\"school\":\"NTHU\", \"year\":109, \"number\":1} \n",
    "fun(**kwargs) "
   ]
  },
  {
   "cell_type": "markdown",
   "metadata": {},
   "source": [
    "# Packing and Unpacking Dict into Keyword Arguments"
   ]
  },
  {
   "cell_type": "code",
   "execution_count": 9,
   "metadata": {},
   "outputs": [
    {
     "name": "stdout",
     "output_type": "stream",
     "text": [
      "kwargs= {'school': 'NTHU', 'year': 109, 'number': 1} type= <class 'dict'>\n",
      "school= NTHU\n",
      "year= 109\n",
      "number= 1\n"
     ]
    }
   ],
   "source": [
    "def fun(**kwargs):\n",
    "    print(\"kwargs=\", kwargs, \"type=\", type(kwargs))\n",
    "    print(\"school=\", kwargs['school'])\n",
    "    print(\"year=\", kwargs['year'])\n",
    "    print(\"number=\", kwargs['number'])\n",
    "  \n",
    "kwargs = {\"school\":\"NTHU\", \"year\":109, \"number\":1} \n",
    "fun(**kwargs) "
   ]
  },
  {
   "cell_type": "markdown",
   "metadata": {},
   "source": [
    "# Pass by Tuple"
   ]
  },
  {
   "cell_type": "code",
   "execution_count": 10,
   "metadata": {},
   "outputs": [
    {
     "name": "stdout",
     "output_type": "stream",
     "text": [
      "local: (1, 2, 3, 4) <class 'tuple'>\n",
      "gobal: (1, 2)\n"
     ]
    }
   ],
   "source": [
    "def passbyargs(args):\n",
    "    args += (3,4)\n",
    "    print('local:', args, type(args))\n",
    "    \n",
    "args = (1,2)\n",
    "passbyargs(args)\n",
    "print('gobal:', args)"
   ]
  },
  {
   "cell_type": "markdown",
   "metadata": {},
   "source": [
    "# Pass by Unpacking Arguments"
   ]
  },
  {
   "cell_type": "code",
   "execution_count": 11,
   "metadata": {},
   "outputs": [
    {
     "ename": "TypeError",
     "evalue": "can only concatenate tuple (not \"list\") to tuple",
     "output_type": "error",
     "traceback": [
      "\u001b[0;31m---------------------------------------------------------------------------\u001b[0m",
      "\u001b[0;31mTypeError\u001b[0m                                 Traceback (most recent call last)",
      "\u001b[0;32m<ipython-input-11-4dc5c638351a>\u001b[0m in \u001b[0;36m<module>\u001b[0;34m\u001b[0m\n\u001b[1;32m      4\u001b[0m \u001b[0;34m\u001b[0m\u001b[0m\n\u001b[1;32m      5\u001b[0m \u001b[0margs\u001b[0m \u001b[0;34m=\u001b[0m \u001b[0;34m[\u001b[0m\u001b[0;36m1\u001b[0m\u001b[0;34m,\u001b[0m\u001b[0;36m2\u001b[0m\u001b[0;34m]\u001b[0m\u001b[0;34m\u001b[0m\u001b[0;34m\u001b[0m\u001b[0m\n\u001b[0;32m----> 6\u001b[0;31m \u001b[0mpassbyargs\u001b[0m\u001b[0;34m(\u001b[0m\u001b[0;34m*\u001b[0m\u001b[0margs\u001b[0m\u001b[0;34m)\u001b[0m\u001b[0;34m\u001b[0m\u001b[0;34m\u001b[0m\u001b[0m\n\u001b[0m\u001b[1;32m      7\u001b[0m \u001b[0mprint\u001b[0m\u001b[0;34m(\u001b[0m\u001b[0;34m'gobal:'\u001b[0m\u001b[0;34m,\u001b[0m \u001b[0margs\u001b[0m\u001b[0;34m)\u001b[0m\u001b[0;34m\u001b[0m\u001b[0;34m\u001b[0m\u001b[0m\n",
      "\u001b[0;32m<ipython-input-11-4dc5c638351a>\u001b[0m in \u001b[0;36mpassbyargs\u001b[0;34m(*args)\u001b[0m\n\u001b[1;32m      1\u001b[0m \u001b[0;32mdef\u001b[0m \u001b[0mpassbyargs\u001b[0m\u001b[0;34m(\u001b[0m\u001b[0;34m*\u001b[0m\u001b[0margs\u001b[0m\u001b[0;34m)\u001b[0m\u001b[0;34m:\u001b[0m\u001b[0;34m\u001b[0m\u001b[0;34m\u001b[0m\u001b[0m\n\u001b[0;32m----> 2\u001b[0;31m     \u001b[0margs\u001b[0m \u001b[0;34m+=\u001b[0m \u001b[0;34m[\u001b[0m\u001b[0;36m3\u001b[0m\u001b[0;34m,\u001b[0m\u001b[0;36m4\u001b[0m\u001b[0;34m]\u001b[0m\u001b[0;34m\u001b[0m\u001b[0;34m\u001b[0m\u001b[0m\n\u001b[0m\u001b[1;32m      3\u001b[0m     \u001b[0mprint\u001b[0m\u001b[0;34m(\u001b[0m\u001b[0;34m'local:'\u001b[0m\u001b[0;34m,\u001b[0m \u001b[0margs\u001b[0m\u001b[0;34m,\u001b[0m \u001b[0mtype\u001b[0m\u001b[0;34m(\u001b[0m\u001b[0margs\u001b[0m\u001b[0;34m)\u001b[0m\u001b[0;34m)\u001b[0m\u001b[0;34m\u001b[0m\u001b[0;34m\u001b[0m\u001b[0m\n\u001b[1;32m      4\u001b[0m \u001b[0;34m\u001b[0m\u001b[0m\n\u001b[1;32m      5\u001b[0m \u001b[0margs\u001b[0m \u001b[0;34m=\u001b[0m \u001b[0;34m[\u001b[0m\u001b[0;36m1\u001b[0m\u001b[0;34m,\u001b[0m\u001b[0;36m2\u001b[0m\u001b[0;34m]\u001b[0m\u001b[0;34m\u001b[0m\u001b[0;34m\u001b[0m\u001b[0m\n",
      "\u001b[0;31mTypeError\u001b[0m: can only concatenate tuple (not \"list\") to tuple"
     ]
    }
   ],
   "source": [
    "def passbyargs(*args):\n",
    "    args += [3,4]\n",
    "    print('local:', args, type(args))\n",
    "    \n",
    "args = [1,2]\n",
    "passbyargs(*args)\n",
    "print('gobal:', args)"
   ]
  },
  {
   "cell_type": "code",
   "execution_count": 12,
   "metadata": {},
   "outputs": [
    {
     "name": "stdout",
     "output_type": "stream",
     "text": [
      "local: (1, 2, 3, 4) <class 'tuple'>\n",
      "gobal: [1, 2]\n"
     ]
    }
   ],
   "source": [
    "def passbyargs(*args):\n",
    "    args += (3,4)\n",
    "    print('local:', args, type(args))\n",
    "    \n",
    "args = [1,2]\n",
    "passbyargs(*args)\n",
    "print('gobal:', args)"
   ]
  },
  {
   "cell_type": "markdown",
   "metadata": {},
   "source": [
    "# Pass by Unpacking Keyword Arguments"
   ]
  },
  {
   "cell_type": "code",
   "execution_count": 13,
   "metadata": {},
   "outputs": [
    {
     "name": "stdout",
     "output_type": "stream",
     "text": [
      "local: {'a': 1, 'b': 2, 'c': 3} <class 'dict'>\n",
      "gobal: {'a': 1, 'b': 2}\n"
     ]
    }
   ],
   "source": [
    "def passbykwargs(**kwargs):\n",
    "    kwargs['c'] = 3\n",
    "    print('local:', kwargs, type(kwargs))\n",
    "    \n",
    "kwargs = {'a':1,'b':2}\n",
    "passbykwargs(**kwargs)\n",
    "print('gobal:', kwargs)"
   ]
  },
  {
   "cell_type": "markdown",
   "metadata": {},
   "source": [
    "# Pass by List "
   ]
  },
  {
   "cell_type": "code",
   "execution_count": 14,
   "metadata": {},
   "outputs": [
    {
     "name": "stdout",
     "output_type": "stream",
     "text": [
      "local: [1, 2, 3, 4]\n",
      "gobal: [1, 2, 3, 4]\n"
     ]
    }
   ],
   "source": [
    "def passbylist(b):\n",
    "    b += [3,4]\n",
    "    print('local:', b)\n",
    "    \n",
    "a = [1,2]\n",
    "passbylist(a)\n",
    "print('gobal:', a)"
   ]
  },
  {
   "cell_type": "markdown",
   "metadata": {},
   "source": [
    "# Pass by Dict"
   ]
  },
  {
   "cell_type": "code",
   "execution_count": 15,
   "metadata": {},
   "outputs": [
    {
     "name": "stdout",
     "output_type": "stream",
     "text": [
      "local: {'a': 1, 'b': 2, 'c': 3}\n",
      "gobal: {'a': 1, 'b': 2, 'c': 3}\n"
     ]
    }
   ],
   "source": [
    "def passbydict(b):\n",
    "    b['c'] = 3\n",
    "    print('local:', b)\n",
    "    \n",
    "a = {'a':1,'b':2}\n",
    "passbydict(a)\n",
    "print('gobal:', a)"
   ]
  },
  {
   "cell_type": "markdown",
   "metadata": {},
   "source": [
    "# Local Variable"
   ]
  },
  {
   "cell_type": "code",
   "execution_count": 16,
   "metadata": {},
   "outputs": [
    {
     "name": "stdout",
     "output_type": "stream",
     "text": [
      "local\n"
     ]
    }
   ],
   "source": [
    "def fun():\n",
    "    x = 'local'\n",
    "    print(x)\n",
    "    \n",
    "fun()"
   ]
  },
  {
   "cell_type": "code",
   "execution_count": 17,
   "metadata": {},
   "outputs": [
    {
     "ename": "NameError",
     "evalue": "name 'x' is not defined",
     "output_type": "error",
     "traceback": [
      "\u001b[0;31m---------------------------------------------------------------------------\u001b[0m",
      "\u001b[0;31mNameError\u001b[0m                                 Traceback (most recent call last)",
      "\u001b[0;32m<ipython-input-17-372693328211>\u001b[0m in \u001b[0;36m<module>\u001b[0;34m\u001b[0m\n\u001b[1;32m      3\u001b[0m \u001b[0;34m\u001b[0m\u001b[0m\n\u001b[1;32m      4\u001b[0m \u001b[0mfun\u001b[0m\u001b[0;34m(\u001b[0m\u001b[0;34m)\u001b[0m\u001b[0;34m\u001b[0m\u001b[0;34m\u001b[0m\u001b[0m\n\u001b[0;32m----> 5\u001b[0;31m \u001b[0mprint\u001b[0m\u001b[0;34m(\u001b[0m\u001b[0mx\u001b[0m\u001b[0;34m)\u001b[0m\u001b[0;34m\u001b[0m\u001b[0;34m\u001b[0m\u001b[0m\n\u001b[0m",
      "\u001b[0;31mNameError\u001b[0m: name 'x' is not defined"
     ]
    }
   ],
   "source": [
    "def fun():\n",
    "    x = 'local'\n",
    "    \n",
    "fun()\n",
    "print(x)"
   ]
  },
  {
   "cell_type": "markdown",
   "metadata": {},
   "source": [
    "# Global Variable"
   ]
  },
  {
   "cell_type": "code",
   "execution_count": 18,
   "metadata": {},
   "outputs": [
    {
     "name": "stdout",
     "output_type": "stream",
     "text": [
      "inside: global\n",
      "outside: global\n"
     ]
    }
   ],
   "source": [
    "x = 'global'\n",
    "\n",
    "def fun():\n",
    "    print('inside:', x)\n",
    "\n",
    "fun()\n",
    "print('outside:', x)"
   ]
  },
  {
   "cell_type": "code",
   "execution_count": 19,
   "metadata": {},
   "outputs": [
    {
     "name": "stdout",
     "output_type": "stream",
     "text": [
      "inside: local\n",
      "outside: global\n"
     ]
    }
   ],
   "source": [
    "x = 'global'\n",
    "\n",
    "def fun():\n",
    "    x = 'local'\n",
    "    print('inside:', x)\n",
    "\n",
    "fun()\n",
    "print('outside:', x)"
   ]
  },
  {
   "cell_type": "code",
   "execution_count": 20,
   "metadata": {},
   "outputs": [
    {
     "name": "stdout",
     "output_type": "stream",
     "text": [
      "global : global\n"
     ]
    },
    {
     "ename": "UnboundLocalError",
     "evalue": "local variable 'x' referenced before assignment",
     "output_type": "error",
     "traceback": [
      "\u001b[0;31m---------------------------------------------------------------------------\u001b[0m",
      "\u001b[0;31mUnboundLocalError\u001b[0m                         Traceback (most recent call last)",
      "\u001b[0;32m<ipython-input-20-9353d559d547>\u001b[0m in \u001b[0;36m<module>\u001b[0;34m\u001b[0m\n\u001b[1;32m      6\u001b[0m     \u001b[0mprint\u001b[0m\u001b[0;34m(\u001b[0m\u001b[0;34m'inside:'\u001b[0m\u001b[0;34m,\u001b[0m \u001b[0mx\u001b[0m\u001b[0;34m)\u001b[0m\u001b[0;34m\u001b[0m\u001b[0;34m\u001b[0m\u001b[0m\n\u001b[1;32m      7\u001b[0m \u001b[0;34m\u001b[0m\u001b[0m\n\u001b[0;32m----> 8\u001b[0;31m \u001b[0mfun\u001b[0m\u001b[0;34m(\u001b[0m\u001b[0;34m)\u001b[0m\u001b[0;34m\u001b[0m\u001b[0;34m\u001b[0m\u001b[0m\n\u001b[0m\u001b[1;32m      9\u001b[0m \u001b[0mprint\u001b[0m\u001b[0;34m(\u001b[0m\u001b[0;34m'outside:'\u001b[0m\u001b[0;34m,\u001b[0m \u001b[0mx\u001b[0m\u001b[0;34m)\u001b[0m\u001b[0;34m\u001b[0m\u001b[0;34m\u001b[0m\u001b[0m\n",
      "\u001b[0;32m<ipython-input-20-9353d559d547>\u001b[0m in \u001b[0;36mfun\u001b[0;34m()\u001b[0m\n\u001b[1;32m      3\u001b[0m \u001b[0;34m\u001b[0m\u001b[0m\n\u001b[1;32m      4\u001b[0m \u001b[0;32mdef\u001b[0m \u001b[0mfun\u001b[0m\u001b[0;34m(\u001b[0m\u001b[0;34m)\u001b[0m\u001b[0;34m:\u001b[0m\u001b[0;34m\u001b[0m\u001b[0;34m\u001b[0m\u001b[0m\n\u001b[0;32m----> 5\u001b[0;31m     \u001b[0mx\u001b[0m \u001b[0;34m=\u001b[0m \u001b[0mx\u001b[0m \u001b[0;34m+\u001b[0m \u001b[0;34m'NTHUCHE'\u001b[0m\u001b[0;34m\u001b[0m\u001b[0;34m\u001b[0m\u001b[0m\n\u001b[0m\u001b[1;32m      6\u001b[0m     \u001b[0mprint\u001b[0m\u001b[0;34m(\u001b[0m\u001b[0;34m'inside:'\u001b[0m\u001b[0;34m,\u001b[0m \u001b[0mx\u001b[0m\u001b[0;34m)\u001b[0m\u001b[0;34m\u001b[0m\u001b[0;34m\u001b[0m\u001b[0m\n\u001b[1;32m      7\u001b[0m \u001b[0;34m\u001b[0m\u001b[0m\n",
      "\u001b[0;31mUnboundLocalError\u001b[0m: local variable 'x' referenced before assignment"
     ]
    }
   ],
   "source": [
    "x = 'global'\n",
    "print('global :', x)\n",
    "\n",
    "def fun():\n",
    "    x = x + 'NTHUCHE'\n",
    "    print('inside:', x)\n",
    "\n",
    "fun()\n",
    "print('outside:', x)"
   ]
  },
  {
   "cell_type": "code",
   "execution_count": 21,
   "metadata": {},
   "outputs": [
    {
     "name": "stdout",
     "output_type": "stream",
     "text": [
      "global : global\n",
      "inside : globalNTHUCHE\n",
      "outside: globalNTHUCHE\n"
     ]
    }
   ],
   "source": [
    "x = 'global'\n",
    "print('global :', x)\n",
    "\n",
    "def fun():\n",
    "    global x\n",
    "    x = x + 'NTHUCHE'\n",
    "    print('inside :', x)\n",
    "\n",
    "fun()\n",
    "print('outside:', x)"
   ]
  },
  {
   "cell_type": "markdown",
   "metadata": {},
   "source": [
    "# Non-local Variable"
   ]
  },
  {
   "cell_type": "code",
   "execution_count": 22,
   "metadata": {},
   "outputs": [
    {
     "name": "stdout",
     "output_type": "stream",
     "text": [
      "enclosing1_fun: local\n",
      "nested_fun    : nonlocal\n",
      "enclosing2_fun: nonlocal\n"
     ]
    }
   ],
   "source": [
    "def enclosing_fun():\n",
    "    x = 'local'\n",
    "    print('enclosing1_fun:', x)\n",
    "    def nested_fun():\n",
    "        nonlocal x\n",
    "        x = 'nonlocal'\n",
    "        print('nested_fun    :', x)\n",
    "        \n",
    "    nested_fun()\n",
    "    print('enclosing2_fun:', x)\n",
    "\n",
    "enclosing_fun()"
   ]
  },
  {
   "cell_type": "code",
   "execution_count": 23,
   "metadata": {
    "scrolled": true
   },
   "outputs": [
    {
     "name": "stdout",
     "output_type": "stream",
     "text": [
      "nested_fun2: nonlocal\n",
      "nested_fun1: nonlocal\n",
      "enclosing_fun: local\n"
     ]
    }
   ],
   "source": [
    "def enclosing_fun():\n",
    "    x = 'local'\n",
    "    def nested_fun1():\n",
    "        x = 'local'\n",
    "        def nested_fun2():\n",
    "            nonlocal x\n",
    "            x = 'nonlocal'\n",
    "            print('nested_fun2:', x)\n",
    "        \n",
    "        nested_fun2()\n",
    "        print('nested_fun1:', x)\n",
    "    nested_fun1()\n",
    "    print('enclosing_fun:', x)\n",
    "\n",
    "enclosing_fun()"
   ]
  },
  {
   "cell_type": "markdown",
   "metadata": {},
   "source": [
    "# Python Scopes and Namespaces"
   ]
  },
  {
   "cell_type": "code",
   "execution_count": 34,
   "metadata": {},
   "outputs": [
    {
     "name": "stdout",
     "output_type": "stream",
     "text": [
      "2\n"
     ]
    }
   ],
   "source": [
    "'''Don't use jupyter to change built-in type'''\n",
    "print('Built-in  =', len([1,2,3]))\n",
    "\n",
    "len = len([1,2,3])\n",
    "print('global    =', len)\n",
    "\n",
    "def enclosing_fun():\n",
    "    len = 2\n",
    "    print('Enclosing =', len)\n",
    "\n",
    "    def nested_fun():\n",
    "        len = 1\n",
    "        print('Local     =', len)\n",
    "\n",
    "    nested_fun()\n",
    "enclosing_fun()"
   ]
  },
  {
   "cell_type": "code",
   "execution_count": 24,
   "metadata": {},
   "outputs": [
    {
     "name": "stdout",
     "output_type": "stream",
     "text": [
      "enclosing_fun: global\n",
      "nested_fun: global\n"
     ]
    }
   ],
   "source": [
    "x = 'global'\n",
    "\n",
    "def enclosing_fun():\n",
    "    print('enclosing_fun:', x)\n",
    "    def nested_fun():\n",
    "        print('nested_fun:', x)\n",
    "        \n",
    "    nested_fun()\n",
    "\n",
    "enclosing_fun()"
   ]
  },
  {
   "cell_type": "code",
   "execution_count": 25,
   "metadata": {},
   "outputs": [
    {
     "name": "stdout",
     "output_type": "stream",
     "text": [
      "enclosing_fun: global\n",
      "nested_fun1  : global\n",
      "nested_fun2  : global\n"
     ]
    }
   ],
   "source": [
    "x = 'global'\n",
    "\n",
    "def enclosing_fun():\n",
    "    print('enclosing_fun:', x)\n",
    "    def nested_fun1():\n",
    "        print('nested_fun1  :', x)\n",
    "        def nested_fun2():\n",
    "            print('nested_fun2  :', x)\n",
    "            \n",
    "        nested_fun2()\n",
    "    nested_fun1()\n",
    "\n",
    "enclosing_fun() "
   ]
  },
  {
   "cell_type": "code",
   "execution_count": 26,
   "metadata": {},
   "outputs": [
    {
     "name": "stdout",
     "output_type": "stream",
     "text": [
      "enclosing_fun: local\n",
      "nested_fun   : local\n"
     ]
    }
   ],
   "source": [
    "def enclosing_fun():\n",
    "    x = 'local'\n",
    "    print('enclosing_fun:', x)\n",
    "    def nested_fun():\n",
    "        print('nested_fun   :', x)\n",
    "\n",
    "    nested_fun()\n",
    "\n",
    "enclosing_fun()"
   ]
  },
  {
   "cell_type": "code",
   "execution_count": 27,
   "metadata": {},
   "outputs": [
    {
     "name": "stdout",
     "output_type": "stream",
     "text": [
      "enclosing_fun: local\n",
      "nested_fun1  : local\n",
      "nested_fun2  : local\n"
     ]
    }
   ],
   "source": [
    "def enclosing_fun():\n",
    "    x = 'local'\n",
    "    print('enclosing_fun:', x)\n",
    "    def nested_fun1():\n",
    "        print('nested_fun1  :', x)\n",
    "        def nested_fun2():\n",
    "            print('nested_fun2  :', x)\n",
    "        \n",
    "        nested_fun2()\n",
    "    nested_fun1()\n",
    "\n",
    "enclosing_fun()"
   ]
  },
  {
   "cell_type": "code",
   "execution_count": 28,
   "metadata": {},
   "outputs": [
    {
     "name": "stdout",
     "output_type": "stream",
     "text": [
      "enclosing_fun: local\n",
      "nested_fun: global\n",
      "nested_fun: global\n"
     ]
    }
   ],
   "source": [
    "def nested_fun1():\n",
    "        print('nested_fun:', x)\n",
    "        def nested_fun2():\n",
    "            print('nested_fun:', x)\n",
    "        nested_fun2()\n",
    "            \n",
    "def enclosing_fun():\n",
    "    x = 'local'\n",
    "    print('enclosing_fun:', x)\n",
    "    nested_fun1()\n",
    "\n",
    "enclosing_fun()"
   ]
  },
  {
   "cell_type": "markdown",
   "metadata": {},
   "source": [
    "# Python Closure"
   ]
  },
  {
   "cell_type": "code",
   "execution_count": 29,
   "metadata": {},
   "outputs": [
    {
     "name": "stdout",
     "output_type": "stream",
     "text": [
      "nested= NTHU\n"
     ]
    }
   ],
   "source": [
    "def enclosing_fun(x):\n",
    "    def nested_fun():\n",
    "        print(\"nested=\", x)\n",
    "    nested_fun()\n",
    "    \n",
    "enclosing_fun(\"NTHU\")"
   ]
  },
  {
   "cell_type": "code",
   "execution_count": 30,
   "metadata": {},
   "outputs": [
    {
     "name": "stdout",
     "output_type": "stream",
     "text": [
      "nested= NTHU\n"
     ]
    }
   ],
   "source": [
    "def enclosing_fun(x):\n",
    "    def nested_fun1():\n",
    "        def nested_fun2():\n",
    "            print(\"nested=\", x)\n",
    "        nested_fun2()\n",
    "    nested_fun1()\n",
    "    \n",
    "enclosing_fun(\"NTHU\")"
   ]
  },
  {
   "cell_type": "code",
   "execution_count": 31,
   "metadata": {},
   "outputs": [
    {
     "name": "stdout",
     "output_type": "stream",
     "text": [
      "nested= NTHU\n"
     ]
    }
   ],
   "source": [
    "def enclosing_fun(x):\n",
    "    def nested_fun():\n",
    "        print(\"nested=\", x)\n",
    "    return nested_fun\n",
    "    \n",
    "a = enclosing_fun(\"NTHU\")\n",
    "\n",
    "del enclosing_fun\n",
    "a()"
   ]
  },
  {
   "cell_type": "markdown",
   "metadata": {},
   "source": [
    "# Lambda Expressions"
   ]
  },
  {
   "cell_type": "code",
   "execution_count": 32,
   "metadata": {},
   "outputs": [
    {
     "name": "stdout",
     "output_type": "stream",
     "text": [
      "5749\n"
     ]
    }
   ],
   "source": [
    "x = lambda a : a + 183\n",
    "print(x(5566))"
   ]
  },
  {
   "cell_type": "code",
   "execution_count": 33,
   "metadata": {
    "scrolled": true
   },
   "outputs": [
    {
     "name": "stdout",
     "output_type": "stream",
     "text": [
      "5749\n"
     ]
    }
   ],
   "source": [
    "x = lambda a, b : a + b\n",
    "print(x(5566, 183))"
   ]
  },
  {
   "cell_type": "code",
   "execution_count": 34,
   "metadata": {},
   "outputs": [
    {
     "name": "stdout",
     "output_type": "stream",
     "text": [
      "5749\n"
     ]
    }
   ],
   "source": [
    "def myfunc(b):\n",
    "  return lambda a : a + b\n",
    "\n",
    "mydoubler = myfunc(5566)\n",
    "\n",
    "print(mydoubler(183))"
   ]
  }
 ],
 "metadata": {
  "kernelspec": {
   "display_name": "Python 3",
   "language": "python",
   "name": "python3"
  },
  "language_info": {
   "codemirror_mode": {
    "name": "ipython",
    "version": 3
   },
   "file_extension": ".py",
   "mimetype": "text/x-python",
   "name": "python",
   "nbconvert_exporter": "python",
   "pygments_lexer": "ipython3",
   "version": "3.7.4"
  }
 },
 "nbformat": 4,
 "nbformat_minor": 4
}
