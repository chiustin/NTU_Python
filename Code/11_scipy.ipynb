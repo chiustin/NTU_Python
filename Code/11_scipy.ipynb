{
 "cells": [
  {
   "cell_type": "markdown",
   "metadata": {},
   "source": [
    "# Find the Value of x that Makes Function Zero"
   ]
  },
  {
   "cell_type": "markdown",
   "metadata": {},
   "source": [
    "![Alt text](./Other/scipy1.png)"
   ]
  },
  {
   "cell_type": "code",
   "execution_count": 1,
   "metadata": {},
   "outputs": [
    {
     "name": "stdout",
     "output_type": "stream",
     "text": [
      "The root x is  [0.92413871]\n"
     ]
    }
   ],
   "source": [
    "from scipy.optimize import fsolve \n",
    "\n",
    "def equil_eq(x):\n",
    "    return 148.4 - x*x/(1.0-x)**2 \n",
    "\n",
    "x = fsolve(equil_eq, 0.5)\n",
    "print ('The root x is ', x)"
   ]
  },
  {
   "cell_type": "markdown",
   "metadata": {},
   "source": [
    "# Solve the Two Equations"
   ]
  },
  {
   "cell_type": "markdown",
   "metadata": {},
   "source": [
    "![Alt text](./Other/scipy2.png)"
   ]
  },
  {
   "cell_type": "code",
   "execution_count": 2,
   "metadata": {},
   "outputs": [
    {
     "name": "stdout",
     "output_type": "stream",
     "text": [
      "x = -1.445552368805104\n",
      "y = -2.412158348039573\n",
      "-3.375077994860476e-14\n",
      "4.3165471197426086e-13\n"
     ]
    }
   ],
   "source": [
    "from scipy.optimize import fsolve \n",
    "from scipy import exp\n",
    "import numpy as np\n",
    "\n",
    "def prob2(p):\n",
    "    # vector components are transferred to the function \n",
    "    x = p[0]\n",
    "    y = p[1]\n",
    "    return 10*x + 3*y*y -3, x*x - exp(y) - 2\n",
    "\n",
    "p = np.zeros(2,dtype=float)\n",
    "p[0] = 1.5\n",
    "p[1] = 2.5\n",
    "p = fsolve(prob2,p)\n",
    "\n",
    "print ('x =', p[0]) \n",
    "print ('y =', p[1])\n",
    "\n",
    "x = p[0]\n",
    "y = p[1]\n",
    "print(10*x + 3*y*y -3)\n",
    "print(x*x - exp(y) - 2)"
   ]
  },
  {
   "cell_type": "markdown",
   "metadata": {},
   "source": [
    "# Solve Ordinary Differential Equations"
   ]
  },
  {
   "cell_type": "markdown",
   "metadata": {},
   "source": [
    "![Alt text](./Other/scipy3.png)"
   ]
  },
  {
   "cell_type": "code",
   "execution_count": 3,
   "metadata": {},
   "outputs": [
    {
     "data": {
      "text/plain": [
       "<Figure size 640x480 with 1 Axes>"
      ]
     },
     "metadata": {},
     "output_type": "display_data"
    },
    {
     "name": "stdout",
     "output_type": "stream",
     "text": [
      "[0.   0.05 0.1  0.15 0.2  0.25 0.3  0.35 0.4  0.45 0.5  0.55 0.6  0.65\n",
      " 0.7  0.75 0.8  0.85 0.9  0.95] [[1.00000000e+00]\n",
      " [6.06530673e-01]\n",
      " [3.67879470e-01]\n",
      " [2.23130160e-01]\n",
      " [1.35335274e-01]\n",
      " [8.20849871e-02]\n",
      " [4.97870569e-02]\n",
      " [3.01973822e-02]\n",
      " [1.83156386e-02]\n",
      " [1.11089970e-02]\n",
      " [6.73794775e-03]\n",
      " [4.08677208e-03]\n",
      " [2.47875314e-03]\n",
      " [1.50343882e-03]\n",
      " [9.11881106e-04]\n",
      " [5.53083434e-04]\n",
      " [3.35461688e-04]\n",
      " [2.03467612e-04]\n",
      " [1.23409254e-04]\n",
      " [7.48509878e-05]]\n"
     ]
    }
   ],
   "source": [
    "from scipy.integrate import odeint \n",
    "import matplotlib.pyplot as plt \n",
    "import numpy as np\n",
    "\n",
    "def f(y, t):\n",
    "    # this is the rhs of the ODE to integrate , i.e. dy/dt=f(y,t)\n",
    "    return -10 * y\n",
    "\n",
    "y0 = 1 # initial value\n",
    "a  = 0 # integration limits for t\n",
    "b  = 1\n",
    "tspan = np.arange(a, b, 0.05) # values of t for which we require the solution y(t)\n",
    "y = odeint(f, y0 , tspan) # actual computation of y(t)\n",
    "\n",
    "# plot the solution\n",
    "plt.plot(tspan, y)\n",
    "plt.xlabel('t')\n",
    "plt.ylabel('y(t)') \n",
    "plt.show()\n",
    "\n",
    "# print the solution \n",
    "print(tspan, y)"
   ]
  },
  {
   "cell_type": "code",
   "execution_count": 4,
   "metadata": {},
   "outputs": [],
   "source": [
    "def rhs(y,t,krate):\n",
    "    # this is the rhs of the ODE to integrate , i.e. dy/dt=f(y,t)\n",
    "    return - krate * y\n",
    "\n",
    "y0 = 1 # initial value\n",
    "a = 0 # integration limits for t\n",
    "b = 1\n",
    "tspan = np.arange(a, b, 0.05) # values of t for which we require the solution y(t) \n",
    "krate = 10.0 # set the rate constant\n",
    "y = odeint (rhs, y0 , tspan, args=(krate,)) # actual computation of y(t)\n",
    "# note how the krate has to be put into an args tuple"
   ]
  },
  {
   "cell_type": "markdown",
   "metadata": {},
   "source": [
    "# Single Integrals"
   ]
  },
  {
   "cell_type": "markdown",
   "metadata": {},
   "source": [
    "![Alt text](./Other/scipy4.png)"
   ]
  },
  {
   "cell_type": "code",
   "execution_count": 5,
   "metadata": {},
   "outputs": [
    {
     "name": "stdout",
     "output_type": "stream",
     "text": [
      "(0.5, 5.551115123125783e-15)\n"
     ]
    }
   ],
   "source": [
    "import scipy.integrate\n",
    " \n",
    "def integrand(x):\n",
    "    return x\n",
    "\n",
    "i = scipy.integrate.quad(integrand, 0, 1) \n",
    "print(i)"
   ]
  },
  {
   "cell_type": "markdown",
   "metadata": {},
   "source": [
    "# Fast Fourier Transform"
   ]
  },
  {
   "cell_type": "markdown",
   "metadata": {},
   "source": [
    "![Alt text](./Other/scipy5.png)"
   ]
  },
  {
   "cell_type": "code",
   "execution_count": 6,
   "metadata": {},
   "outputs": [
    {
     "name": "stdout",
     "output_type": "stream",
     "text": [
      "[ 3.07313218+0.j         -0.80916518+0.56893828j -0.72740091+0.14275203j\n",
      " -0.72740091-0.14275203j -0.80916518-0.56893828j]\n"
     ]
    }
   ],
   "source": [
    "from scipy.fftpack import fft\n",
    "\n",
    "x = np.sin(np.array((0., 30., 45., 60., 90.)) * np.pi / 180. )\n",
    "y = fft(x)\n",
    "print(y)"
   ]
  },
  {
   "cell_type": "markdown",
   "metadata": {},
   "source": [
    "# Use Non-Linear Least Squares to Fit a Function"
   ]
  },
  {
   "cell_type": "code",
   "execution_count": 7,
   "metadata": {},
   "outputs": [
    {
     "data": {
      "image/png": "[encoded data removed]",
      "text/plain": [
       "<Figure size 432x288 with 1 Axes>"
      ]
     },
     "metadata": {
      "needs_background": "light"
     },
     "output_type": "display_data"
    }
   ],
   "source": [
    "import matplotlib.pyplot as plt\n",
    "from scipy.optimize import curve_fit\n",
    "\n",
    "def func(x, a, b, c):\n",
    "    return a * np.exp(-b * x) + c\n",
    "\n",
    "xdata = np.linspace(0, 4, 50)\n",
    "y = func(xdata, 2.5, 1.3, 0.5)\n",
    "np.random.seed(1729)\n",
    "y_noise = 0.2 * np.random.normal(size=xdata.size)\n",
    "ydata = y + y_noise\n",
    "plt.plot(xdata, ydata, 'b-', label='data')\n",
    "\n",
    "popt, pcov = curve_fit(func, xdata, ydata)\n",
    "plt.plot(xdata, func(xdata, *popt), 'r-', label='fit: a=%5.3f, b=%5.3f, c=%5.3f' % tuple(popt))\n",
    "\n",
    "popt, pcov = curve_fit(func, xdata, ydata, bounds=(0, [3., 1., 0.5]))\n",
    "plt.plot(xdata, func(xdata, *popt), 'g--', label='fit: a=%5.3f, b=%5.3f, c=%5.3f' % tuple(popt))\n",
    "\n",
    "plt.xlabel('x')\n",
    "plt.ylabel('y')\n",
    "plt.legend()\n",
    "plt.show()"
   ]
  }
 ],
 "metadata": {
  "kernelspec": {
   "display_name": "Python 3",
   "language": "python",
   "name": "python3"
  },
  "language_info": {
   "codemirror_mode": {
    "name": "ipython",
    "version": 3
   },
   "file_extension": ".py",
   "mimetype": "text/x-python",
   "name": "python",
   "nbconvert_exporter": "python",
   "pygments_lexer": "ipython3",
   "version": "3.7.6"
  }
 },
 "nbformat": 4,
 "nbformat_minor": 4
}
