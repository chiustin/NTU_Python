{
 "cells": [
  {
   "cell_type": "markdown",
   "metadata": {},
   "source": [
    "# Defining Functions"
   ]
  },
  {
   "cell_type": "code",
   "execution_count": 17,
   "metadata": {},
   "outputs": [],
   "source": [
    "def f(rho, u, D, mu):\n",
    "    print(\"density=\", rho)\n",
    "    print(\"velocity=\", u)\n",
    "    print(\"diameter=\", D)\n",
    "    print(\"viscosity=\", mu)"
   ]
  },
  {
   "cell_type": "markdown",
   "metadata": {},
   "source": [
    "# Calling a Function"
   ]
  },
  {
   "cell_type": "code",
   "execution_count": 18,
   "metadata": {},
   "outputs": [
    {
     "name": "stdout",
     "output_type": "stream",
     "text": [
      "density= 1\n",
      "velocity= 10\n",
      "diameter= 0.1\n",
      "viscosity= 0.001\n",
      "density= 5\n",
      "velocity= 10\n",
      "diameter= 0.1\n",
      "viscosity= 0.001\n"
     ]
    }
   ],
   "source": [
    "'''rho=1'''\n",
    "f(1, 10, 0.1, 0.001)\n",
    "'''rho=5'''\n",
    "f(5, 10, 0.1, 0.001)"
   ]
  },
  {
   "cell_type": "markdown",
   "metadata": {},
   "source": [
    "# Return"
   ]
  },
  {
   "cell_type": "code",
   "execution_count": 19,
   "metadata": {},
   "outputs": [
    {
     "name": "stdout",
     "output_type": "stream",
     "text": [
      "1000.0\n",
      "5000.0\n"
     ]
    }
   ],
   "source": [
    "def f(rho, u, D, mu):\n",
    "    return rho*u*D / mu\n",
    "    \n",
    "'''rho=1'''\n",
    "Renold_number = f(1, 10, 0.1, 0.001)\n",
    "print(Renold_number)\n",
    "'''rho=5'''\n",
    "Renold_number = f(5, 10, 0.1, 0.001)\n",
    "print(Renold_number)"
   ]
  },
  {
   "cell_type": "code",
   "execution_count": 20,
   "metadata": {},
   "outputs": [
    {
     "name": "stdout",
     "output_type": "stream",
     "text": [
      "1000.0\n",
      "5000.0\n"
     ]
    }
   ],
   "source": [
    "def f(rho, u, D, mu):\n",
    "    Re = rho*u*D / mu\n",
    "    return Re\n",
    "    \n",
    "'''rho=1'''\n",
    "Renold_number = f(1, 10, 0.1, 0.001)\n",
    "print(Renold_number)\n",
    "'''rho=5'''\n",
    "Renold_number = f(5, 10, 0.1, 0.001)\n",
    "print(Renold_number)"
   ]
  },
  {
   "cell_type": "markdown",
   "metadata": {},
   "source": [
    "# Default Argument"
   ]
  },
  {
   "cell_type": "code",
   "execution_count": 21,
   "metadata": {},
   "outputs": [
    {
     "name": "stdout",
     "output_type": "stream",
     "text": [
      "density= 1\n",
      "velocity= 10\n",
      "diameter= 0.1\n",
      "viscosity= 0.001\n",
      "density= 1\n",
      "velocity= 100\n",
      "diameter= 1\n",
      "viscosity= 0.01\n"
     ]
    }
   ],
   "source": [
    "def f(rho, u=10, D=0.1, mu=0.001):\n",
    "    print(\"density=\", rho)\n",
    "    print(\"velocity=\", u)\n",
    "    print(\"diameter=\", D)\n",
    "    print(\"viscosity=\", mu)\n",
    "\n",
    "f(1)\n",
    "f(1, 100, 1, 0.01)"
   ]
  },
  {
   "cell_type": "markdown",
   "metadata": {},
   "source": [
    "# Keyword Arguments"
   ]
  },
  {
   "cell_type": "code",
   "execution_count": 22,
   "metadata": {},
   "outputs": [
    {
     "name": "stdout",
     "output_type": "stream",
     "text": [
      "density= 1\n",
      "velocity= 100\n",
      "diameter= 1\n",
      "viscosity= 0.01\n"
     ]
    }
   ],
   "source": [
    "def f(rho, u=10, D=0.1, mu=0.001):\n",
    "    print(\"density=\", rho)\n",
    "    print(\"velocity=\", u)\n",
    "    print(\"diameter=\", D)\n",
    "    print(\"viscosity=\", mu)\n",
    "\n",
    "f(mu=0.01, D=1, u=100, rho=1 )"
   ]
  },
  {
   "cell_type": "markdown",
   "metadata": {},
   "source": [
    "# Packing into Arguments"
   ]
  },
  {
   "cell_type": "code",
   "execution_count": 23,
   "metadata": {},
   "outputs": [
    {
     "name": "stdout",
     "output_type": "stream",
     "text": [
      "args= (1, 100, 1, 0.01) type= <class 'tuple'>\n",
      "density= 1\n",
      "velocity= 100\n",
      "diameter= 1\n",
      "viscosity= 0.01\n"
     ]
    }
   ],
   "source": [
    "def f(*args):\n",
    "    print(\"args=\", args, \"type=\", type(args))\n",
    "    print(\"density=\", args[0])\n",
    "    print(\"velocity=\", args[1])\n",
    "    print(\"diameter=\", args[2])\n",
    "    print(\"viscosity=\", args[3])\n",
    "    \n",
    "f(1, 100, 1, 0.01)"
   ]
  },
  {
   "cell_type": "markdown",
   "metadata": {},
   "source": [
    "# Unpacking into Arguments "
   ]
  },
  {
   "cell_type": "code",
   "execution_count": 24,
   "metadata": {},
   "outputs": [
    {
     "name": "stdout",
     "output_type": "stream",
     "text": [
      "*args= 1 100 1 0.01\n",
      "density= 1\n",
      "velocity= 100\n",
      "diameter= 1\n",
      "viscosity= 0.01\n"
     ]
    }
   ],
   "source": [
    "def f(rho, u, D, mu):\n",
    "    print(\"density=\", rho)\n",
    "    print(\"velocity=\", u)\n",
    "    print(\"diameter=\", D)\n",
    "    print(\"viscosity=\", mu)\n",
    "    \n",
    "args = [1, 100, 1, 0.01]\n",
    "print(\"*args=\", *args)\n",
    "\n",
    "f(*args)"
   ]
  },
  {
   "cell_type": "markdown",
   "metadata": {},
   "source": [
    "# Unpacking and Packing into Arguments"
   ]
  },
  {
   "cell_type": "code",
   "execution_count": 25,
   "metadata": {},
   "outputs": [
    {
     "name": "stdout",
     "output_type": "stream",
     "text": [
      "args= (1, 100, 1, 0.01) type= <class 'tuple'>\n",
      "density= 1\n",
      "velocity= 100\n",
      "diameter= 1\n",
      "viscosity= 0.01\n"
     ]
    }
   ],
   "source": [
    "def f(*args):\n",
    "    print(\"args=\", args, \"type=\", type(args))\n",
    "    print(\"density=\", args[0])\n",
    "    print(\"velocity=\", args[1])\n",
    "    print(\"diameter=\", args[2])\n",
    "    print(\"viscosity=\", args[3])\n",
    "\n",
    "args = [1, 100, 1, 0.01]\n",
    "f(*args)"
   ]
  },
  {
   "cell_type": "markdown",
   "metadata": {},
   "source": [
    "# Packing Dict into Keyword Arguments"
   ]
  },
  {
   "cell_type": "code",
   "execution_count": 26,
   "metadata": {},
   "outputs": [
    {
     "name": "stdout",
     "output_type": "stream",
     "text": [
      "kwargs= {'rho': 1, 'u': 100, 'D': 1, 'mu': 0.01} type= <class 'dict'>\n",
      "density= 1\n",
      "velocity= 100\n",
      "diameter= 1\n",
      "viscosity= 0.01\n"
     ]
    }
   ],
   "source": [
    "def f(**kwargs):\n",
    "    print(\"kwargs=\", kwargs, \"type=\", type(kwargs))    \n",
    "    print(\"density=\", kwargs['rho'])\n",
    "    print(\"velocity=\", kwargs['u'])\n",
    "    print(\"diameter=\", kwargs['D'])\n",
    "    print(\"viscosity=\", kwargs['mu'])\n",
    "\n",
    "f(rho=1, u=100, D=1, mu=0.01)"
   ]
  },
  {
   "cell_type": "markdown",
   "metadata": {},
   "source": [
    "# Unpacking Dict into Keyword Arguments "
   ]
  },
  {
   "cell_type": "code",
   "execution_count": 27,
   "metadata": {},
   "outputs": [
    {
     "name": "stdout",
     "output_type": "stream",
     "text": [
      "density= 1\n",
      "velocity= 100\n",
      "diameter= 1\n",
      "viscosity= 0.01\n"
     ]
    }
   ],
   "source": [
    "def f(rho, u, D, mu): \n",
    "    print(\"density=\", rho)\n",
    "    print(\"velocity=\", u)\n",
    "    print(\"diameter=\", D)\n",
    "    print(\"viscosity=\", mu)\n",
    "  \n",
    "kwargs = {'rho': 1, 'u': 100, 'D': 1, 'mu': 0.01} \n",
    "f(**kwargs) "
   ]
  },
  {
   "cell_type": "markdown",
   "metadata": {},
   "source": [
    "# Packing and Unpacking Dict into Keyword Arguments"
   ]
  },
  {
   "cell_type": "code",
   "execution_count": 28,
   "metadata": {},
   "outputs": [
    {
     "name": "stdout",
     "output_type": "stream",
     "text": [
      "kwargs= {'rho': 1, 'u': 100, 'D': 1, 'mu': 0.01} type= <class 'dict'>\n",
      "density= 1\n",
      "velocity= 100\n",
      "diameter= 1\n",
      "viscosity= 0.01\n"
     ]
    }
   ],
   "source": [
    "def f(**kwargs):\n",
    "    print(\"kwargs=\", kwargs, \"type=\", type(kwargs))\n",
    "    print(\"density=\", kwargs['rho'])\n",
    "    print(\"velocity=\", kwargs['u'])\n",
    "    print(\"diameter=\", kwargs['D'])\n",
    "    print(\"viscosity=\", kwargs['mu'])\n",
    "  \n",
    "kwargs = {'rho': 1, 'u': 100, 'D': 1, 'mu': 0.01} \n",
    "f(**kwargs) "
   ]
  },
  {
   "cell_type": "markdown",
   "metadata": {},
   "source": [
    "# Pass by Tuple"
   ]
  },
  {
   "cell_type": "code",
   "execution_count": 29,
   "metadata": {},
   "outputs": [
    {
     "name": "stdout",
     "output_type": "stream",
     "text": [
      "local: (1, 2, 3, 4) <class 'tuple'>\n",
      "gobal: (1, 2)\n"
     ]
    }
   ],
   "source": [
    "def passbyargs(args):\n",
    "    args += (3,4)\n",
    "    print('local:', args, type(args))\n",
    "    \n",
    "args = (1,2)\n",
    "passbyargs(args)\n",
    "print('gobal:', args)"
   ]
  },
  {
   "cell_type": "markdown",
   "metadata": {},
   "source": [
    "# Pass by Unpacking Arguments"
   ]
  },
  {
   "cell_type": "code",
   "execution_count": 30,
   "metadata": {},
   "outputs": [
    {
     "ename": "TypeError",
     "evalue": "can only concatenate tuple (not \"list\") to tuple",
     "output_type": "error",
     "traceback": [
      "\u001b[0;31m---------------------------------------------------------------------------\u001b[0m",
      "\u001b[0;31mTypeError\u001b[0m                                 Traceback (most recent call last)",
      "\u001b[0;32m<ipython-input-30-4dc5c638351a>\u001b[0m in \u001b[0;36m<module>\u001b[0;34m\u001b[0m\n\u001b[1;32m      4\u001b[0m \u001b[0;34m\u001b[0m\u001b[0m\n\u001b[1;32m      5\u001b[0m \u001b[0margs\u001b[0m \u001b[0;34m=\u001b[0m \u001b[0;34m[\u001b[0m\u001b[0;36m1\u001b[0m\u001b[0;34m,\u001b[0m\u001b[0;36m2\u001b[0m\u001b[0;34m]\u001b[0m\u001b[0;34m\u001b[0m\u001b[0;34m\u001b[0m\u001b[0m\n\u001b[0;32m----> 6\u001b[0;31m \u001b[0mpassbyargs\u001b[0m\u001b[0;34m(\u001b[0m\u001b[0;34m*\u001b[0m\u001b[0margs\u001b[0m\u001b[0;34m)\u001b[0m\u001b[0;34m\u001b[0m\u001b[0;34m\u001b[0m\u001b[0m\n\u001b[0m\u001b[1;32m      7\u001b[0m \u001b[0mprint\u001b[0m\u001b[0;34m(\u001b[0m\u001b[0;34m'gobal:'\u001b[0m\u001b[0;34m,\u001b[0m \u001b[0margs\u001b[0m\u001b[0;34m)\u001b[0m\u001b[0;34m\u001b[0m\u001b[0;34m\u001b[0m\u001b[0m\n",
      "\u001b[0;32m<ipython-input-30-4dc5c638351a>\u001b[0m in \u001b[0;36mpassbyargs\u001b[0;34m(*args)\u001b[0m\n\u001b[1;32m      1\u001b[0m \u001b[0;32mdef\u001b[0m \u001b[0mpassbyargs\u001b[0m\u001b[0;34m(\u001b[0m\u001b[0;34m*\u001b[0m\u001b[0margs\u001b[0m\u001b[0;34m)\u001b[0m\u001b[0;34m:\u001b[0m\u001b[0;34m\u001b[0m\u001b[0;34m\u001b[0m\u001b[0m\n\u001b[0;32m----> 2\u001b[0;31m     \u001b[0margs\u001b[0m \u001b[0;34m+=\u001b[0m \u001b[0;34m[\u001b[0m\u001b[0;36m3\u001b[0m\u001b[0;34m,\u001b[0m\u001b[0;36m4\u001b[0m\u001b[0;34m]\u001b[0m\u001b[0;34m\u001b[0m\u001b[0;34m\u001b[0m\u001b[0m\n\u001b[0m\u001b[1;32m      3\u001b[0m     \u001b[0mprint\u001b[0m\u001b[0;34m(\u001b[0m\u001b[0;34m'local:'\u001b[0m\u001b[0;34m,\u001b[0m \u001b[0margs\u001b[0m\u001b[0;34m,\u001b[0m \u001b[0mtype\u001b[0m\u001b[0;34m(\u001b[0m\u001b[0margs\u001b[0m\u001b[0;34m)\u001b[0m\u001b[0;34m)\u001b[0m\u001b[0;34m\u001b[0m\u001b[0;34m\u001b[0m\u001b[0m\n\u001b[1;32m      4\u001b[0m \u001b[0;34m\u001b[0m\u001b[0m\n\u001b[1;32m      5\u001b[0m \u001b[0margs\u001b[0m \u001b[0;34m=\u001b[0m \u001b[0;34m[\u001b[0m\u001b[0;36m1\u001b[0m\u001b[0;34m,\u001b[0m\u001b[0;36m2\u001b[0m\u001b[0;34m]\u001b[0m\u001b[0;34m\u001b[0m\u001b[0;34m\u001b[0m\u001b[0m\n",
      "\u001b[0;31mTypeError\u001b[0m: can only concatenate tuple (not \"list\") to tuple"
     ]
    }
   ],
   "source": [
    "def passbyargs(*args):\n",
    "    args += [3,4]\n",
    "    print('local:', args, type(args))\n",
    "    \n",
    "args = [1,2]\n",
    "passbyargs(*args)\n",
    "print('gobal:', args)"
   ]
  },
  {
   "cell_type": "code",
   "execution_count": 31,
   "metadata": {},
   "outputs": [
    {
     "name": "stdout",
     "output_type": "stream",
     "text": [
      "local: (1, 2, 3, 4) <class 'tuple'>\n",
      "gobal: [1, 2]\n"
     ]
    }
   ],
   "source": [
    "def passbyargs(*args):\n",
    "    args += (3,4)\n",
    "    print('local:', args, type(args))\n",
    "    \n",
    "args = [1,2]\n",
    "passbyargs(*args)\n",
    "print('gobal:', args)"
   ]
  },
  {
   "cell_type": "markdown",
   "metadata": {},
   "source": [
    "# Pass by Unpacking Keyword Arguments"
   ]
  },
  {
   "cell_type": "code",
   "execution_count": 32,
   "metadata": {},
   "outputs": [
    {
     "name": "stdout",
     "output_type": "stream",
     "text": [
      "local: {'a': 1, 'b': 2, 'c': 3} <class 'dict'>\n",
      "gobal: {'a': 1, 'b': 2}\n"
     ]
    }
   ],
   "source": [
    "def passbykwargs(**kwargs):\n",
    "    kwargs['c'] = 3\n",
    "    print('local:', kwargs, type(kwargs))\n",
    "    \n",
    "kwargs = {'a':1,'b':2}\n",
    "passbykwargs(**kwargs)\n",
    "print('gobal:', kwargs)"
   ]
  },
  {
   "cell_type": "markdown",
   "metadata": {},
   "source": [
    "# Pass by List "
   ]
  },
  {
   "cell_type": "code",
   "execution_count": 33,
   "metadata": {},
   "outputs": [
    {
     "name": "stdout",
     "output_type": "stream",
     "text": [
      "local: [1, 2, 3, 4]\n",
      "gobal: [1, 2, 3, 4]\n"
     ]
    }
   ],
   "source": [
    "def passbylist(b):\n",
    "    b += [3,4]\n",
    "    print('local:', b)\n",
    "    \n",
    "a = [1,2]\n",
    "passbylist(a)\n",
    "print('gobal:', a)"
   ]
  },
  {
   "cell_type": "markdown",
   "metadata": {},
   "source": [
    "# Pass by Dict"
   ]
  },
  {
   "cell_type": "code",
   "execution_count": 34,
   "metadata": {},
   "outputs": [
    {
     "name": "stdout",
     "output_type": "stream",
     "text": [
      "local: {'a': 1, 'b': 2, 'c': 3}\n",
      "gobal: {'a': 1, 'b': 2, 'c': 3}\n"
     ]
    }
   ],
   "source": [
    "def passbydict(b):\n",
    "    b['c'] = 3\n",
    "    print('local:', b)\n",
    "    \n",
    "a = {'a':1,'b':2}\n",
    "passbydict(a)\n",
    "print('gobal:', a)"
   ]
  },
  {
   "cell_type": "markdown",
   "metadata": {},
   "source": [
    "# Local Variable"
   ]
  },
  {
   "cell_type": "code",
   "execution_count": 35,
   "metadata": {},
   "outputs": [
    {
     "name": "stdout",
     "output_type": "stream",
     "text": [
      "local\n"
     ]
    }
   ],
   "source": [
    "def fun():\n",
    "    x = 'local'\n",
    "    print(x)\n",
    "    \n",
    "fun()"
   ]
  },
  {
   "cell_type": "code",
   "execution_count": 36,
   "metadata": {},
   "outputs": [
    {
     "ename": "NameError",
     "evalue": "name 'x' is not defined",
     "output_type": "error",
     "traceback": [
      "\u001b[0;31m---------------------------------------------------------------------------\u001b[0m",
      "\u001b[0;31mNameError\u001b[0m                                 Traceback (most recent call last)",
      "\u001b[0;32m<ipython-input-36-372693328211>\u001b[0m in \u001b[0;36m<module>\u001b[0;34m\u001b[0m\n\u001b[1;32m      3\u001b[0m \u001b[0;34m\u001b[0m\u001b[0m\n\u001b[1;32m      4\u001b[0m \u001b[0mfun\u001b[0m\u001b[0;34m(\u001b[0m\u001b[0;34m)\u001b[0m\u001b[0;34m\u001b[0m\u001b[0;34m\u001b[0m\u001b[0m\n\u001b[0;32m----> 5\u001b[0;31m \u001b[0mprint\u001b[0m\u001b[0;34m(\u001b[0m\u001b[0mx\u001b[0m\u001b[0;34m)\u001b[0m\u001b[0;34m\u001b[0m\u001b[0;34m\u001b[0m\u001b[0m\n\u001b[0m",
      "\u001b[0;31mNameError\u001b[0m: name 'x' is not defined"
     ]
    }
   ],
   "source": [
    "def fun():\n",
    "    x = 'local'\n",
    "    \n",
    "fun()\n",
    "print(x)"
   ]
  },
  {
   "cell_type": "markdown",
   "metadata": {},
   "source": [
    "# Global Variable"
   ]
  },
  {
   "cell_type": "code",
   "execution_count": 37,
   "metadata": {},
   "outputs": [
    {
     "name": "stdout",
     "output_type": "stream",
     "text": [
      "inside: global\n",
      "outside: global\n"
     ]
    }
   ],
   "source": [
    "x = 'global'\n",
    "\n",
    "def fun():\n",
    "    print('inside:', x)\n",
    "\n",
    "fun()\n",
    "print('outside:', x)"
   ]
  },
  {
   "cell_type": "code",
   "execution_count": 38,
   "metadata": {},
   "outputs": [
    {
     "name": "stdout",
     "output_type": "stream",
     "text": [
      "inside: local\n",
      "outside: global\n"
     ]
    }
   ],
   "source": [
    "x = 'global'\n",
    "\n",
    "def fun():\n",
    "    x = 'local'\n",
    "    print('inside:', x)\n",
    "\n",
    "fun()\n",
    "print('outside:', x)"
   ]
  },
  {
   "cell_type": "code",
   "execution_count": 39,
   "metadata": {},
   "outputs": [
    {
     "name": "stdout",
     "output_type": "stream",
     "text": [
      "global : global\n"
     ]
    },
    {
     "ename": "UnboundLocalError",
     "evalue": "local variable 'x' referenced before assignment",
     "output_type": "error",
     "traceback": [
      "\u001b[0;31m---------------------------------------------------------------------------\u001b[0m",
      "\u001b[0;31mUnboundLocalError\u001b[0m                         Traceback (most recent call last)",
      "\u001b[0;32m<ipython-input-39-2dcdba06a12c>\u001b[0m in \u001b[0;36m<module>\u001b[0;34m\u001b[0m\n\u001b[1;32m      6\u001b[0m     \u001b[0mprint\u001b[0m\u001b[0;34m(\u001b[0m\u001b[0;34m'inside:'\u001b[0m\u001b[0;34m,\u001b[0m \u001b[0mx\u001b[0m\u001b[0;34m)\u001b[0m\u001b[0;34m\u001b[0m\u001b[0;34m\u001b[0m\u001b[0m\n\u001b[1;32m      7\u001b[0m \u001b[0;34m\u001b[0m\u001b[0m\n\u001b[0;32m----> 8\u001b[0;31m \u001b[0mfun\u001b[0m\u001b[0;34m(\u001b[0m\u001b[0;34m)\u001b[0m\u001b[0;34m\u001b[0m\u001b[0;34m\u001b[0m\u001b[0m\n\u001b[0m\u001b[1;32m      9\u001b[0m \u001b[0mprint\u001b[0m\u001b[0;34m(\u001b[0m\u001b[0;34m'outside:'\u001b[0m\u001b[0;34m,\u001b[0m \u001b[0mx\u001b[0m\u001b[0;34m)\u001b[0m\u001b[0;34m\u001b[0m\u001b[0;34m\u001b[0m\u001b[0m\n",
      "\u001b[0;32m<ipython-input-39-2dcdba06a12c>\u001b[0m in \u001b[0;36mfun\u001b[0;34m()\u001b[0m\n\u001b[1;32m      3\u001b[0m \u001b[0;34m\u001b[0m\u001b[0m\n\u001b[1;32m      4\u001b[0m \u001b[0;32mdef\u001b[0m \u001b[0mfun\u001b[0m\u001b[0;34m(\u001b[0m\u001b[0;34m)\u001b[0m\u001b[0;34m:\u001b[0m\u001b[0;34m\u001b[0m\u001b[0;34m\u001b[0m\u001b[0m\n\u001b[0;32m----> 5\u001b[0;31m     \u001b[0mx\u001b[0m \u001b[0;34m=\u001b[0m \u001b[0mx\u001b[0m \u001b[0;34m+\u001b[0m \u001b[0;34m'NTUCHE'\u001b[0m\u001b[0;34m\u001b[0m\u001b[0;34m\u001b[0m\u001b[0m\n\u001b[0m\u001b[1;32m      6\u001b[0m     \u001b[0mprint\u001b[0m\u001b[0;34m(\u001b[0m\u001b[0;34m'inside:'\u001b[0m\u001b[0;34m,\u001b[0m \u001b[0mx\u001b[0m\u001b[0;34m)\u001b[0m\u001b[0;34m\u001b[0m\u001b[0;34m\u001b[0m\u001b[0m\n\u001b[1;32m      7\u001b[0m \u001b[0;34m\u001b[0m\u001b[0m\n",
      "\u001b[0;31mUnboundLocalError\u001b[0m: local variable 'x' referenced before assignment"
     ]
    }
   ],
   "source": [
    "x = 'global'\n",
    "print('global :', x)\n",
    "\n",
    "def fun():\n",
    "    x = x + 'NTUCHE'\n",
    "    print('inside:', x)\n",
    "\n",
    "fun()\n",
    "print('outside:', x)"
   ]
  },
  {
   "cell_type": "code",
   "execution_count": 40,
   "metadata": {},
   "outputs": [
    {
     "name": "stdout",
     "output_type": "stream",
     "text": [
      "global : global\n",
      "inside : globalNTUCHE\n",
      "outside: globalNTUCHE\n"
     ]
    }
   ],
   "source": [
    "x = 'global'\n",
    "print('global :', x)\n",
    "\n",
    "def fun():\n",
    "    global x\n",
    "    x = x + 'NTUCHE'\n",
    "    print('inside :', x)\n",
    "\n",
    "fun()\n",
    "print('outside:', x)"
   ]
  },
  {
   "cell_type": "markdown",
   "metadata": {},
   "source": [
    "# Non-local Variable"
   ]
  },
  {
   "cell_type": "code",
   "execution_count": 41,
   "metadata": {},
   "outputs": [
    {
     "name": "stdout",
     "output_type": "stream",
     "text": [
      "enclosing1_fun: local\n",
      "nested_fun    : nonlocal\n",
      "enclosing2_fun: nonlocal\n"
     ]
    }
   ],
   "source": [
    "def enclosing_fun():\n",
    "    x = 'local'\n",
    "    print('enclosing1_fun:', x)\n",
    "    def nested_fun():\n",
    "        nonlocal x\n",
    "        x = 'nonlocal'\n",
    "        print('nested_fun    :', x)\n",
    "        \n",
    "    nested_fun()\n",
    "    print('enclosing2_fun:', x)\n",
    "\n",
    "enclosing_fun()"
   ]
  },
  {
   "cell_type": "code",
   "execution_count": 42,
   "metadata": {
    "scrolled": true
   },
   "outputs": [
    {
     "name": "stdout",
     "output_type": "stream",
     "text": [
      "nested_fun2: nonlocal\n",
      "nested_fun1: nonlocal\n",
      "enclosing_fun: local\n"
     ]
    }
   ],
   "source": [
    "def enclosing_fun():\n",
    "    x = 'local'\n",
    "    def nested_fun1():\n",
    "        x = 'local'\n",
    "        def nested_fun2():\n",
    "            nonlocal x\n",
    "            x = 'nonlocal'\n",
    "            print('nested_fun2:', x)\n",
    "        \n",
    "        nested_fun2()\n",
    "        print('nested_fun1:', x)\n",
    "    nested_fun1()\n",
    "    print('enclosing_fun:', x)\n",
    "\n",
    "enclosing_fun()"
   ]
  },
  {
   "cell_type": "markdown",
   "metadata": {},
   "source": [
    "# Python Scopes and Namespaces"
   ]
  },
  {
   "cell_type": "code",
   "execution_count": 43,
   "metadata": {},
   "outputs": [
    {
     "name": "stdout",
     "output_type": "stream",
     "text": [
      "Built-in  = 3\n",
      "global    = 3\n",
      "Enclosing = 2\n",
      "Local     = 1\n"
     ]
    }
   ],
   "source": [
    "'''Don't use jupyter to change built-in type'''\n",
    "print('Built-in  =', len([1,2,3]))\n",
    "\n",
    "len = len([1,2,3])\n",
    "print('global    =', len)\n",
    "\n",
    "def enclosing_fun():\n",
    "    len = 2\n",
    "    print('Enclosing =', len)\n",
    "\n",
    "    def nested_fun():\n",
    "        len = 1\n",
    "        print('Local     =', len)\n",
    "\n",
    "    nested_fun()\n",
    "enclosing_fun()"
   ]
  },
  {
   "cell_type": "code",
   "execution_count": 44,
   "metadata": {},
   "outputs": [
    {
     "name": "stdout",
     "output_type": "stream",
     "text": [
      "enclosing_fun: global\n",
      "nested_fun: global\n"
     ]
    }
   ],
   "source": [
    "x = 'global'\n",
    "\n",
    "def enclosing_fun():\n",
    "    print('enclosing_fun:', x)\n",
    "    def nested_fun():\n",
    "        print('nested_fun:', x)\n",
    "        \n",
    "    nested_fun()\n",
    "\n",
    "enclosing_fun()"
   ]
  },
  {
   "cell_type": "code",
   "execution_count": 45,
   "metadata": {},
   "outputs": [
    {
     "name": "stdout",
     "output_type": "stream",
     "text": [
      "enclosing_fun: global\n",
      "nested_fun1  : global\n",
      "nested_fun2  : global\n"
     ]
    }
   ],
   "source": [
    "x = 'global'\n",
    "\n",
    "def enclosing_fun():\n",
    "    print('enclosing_fun:', x)\n",
    "    def nested_fun1():\n",
    "        print('nested_fun1  :', x)\n",
    "        def nested_fun2():\n",
    "            print('nested_fun2  :', x)\n",
    "            \n",
    "        nested_fun2()\n",
    "    nested_fun1()\n",
    "\n",
    "enclosing_fun() "
   ]
  },
  {
   "cell_type": "code",
   "execution_count": 46,
   "metadata": {},
   "outputs": [
    {
     "name": "stdout",
     "output_type": "stream",
     "text": [
      "enclosing_fun: local\n",
      "nested_fun   : local\n"
     ]
    }
   ],
   "source": [
    "def enclosing_fun():\n",
    "    x = 'local'\n",
    "    print('enclosing_fun:', x)\n",
    "    def nested_fun():\n",
    "        print('nested_fun   :', x)\n",
    "\n",
    "    nested_fun()\n",
    "\n",
    "enclosing_fun()"
   ]
  },
  {
   "cell_type": "code",
   "execution_count": 47,
   "metadata": {},
   "outputs": [
    {
     "name": "stdout",
     "output_type": "stream",
     "text": [
      "enclosing_fun: local\n",
      "nested_fun1  : local\n",
      "nested_fun2  : local\n"
     ]
    }
   ],
   "source": [
    "def enclosing_fun():\n",
    "    x = 'local'\n",
    "    print('enclosing_fun:', x)\n",
    "    def nested_fun1():\n",
    "        print('nested_fun1  :', x)\n",
    "        def nested_fun2():\n",
    "            print('nested_fun2  :', x)\n",
    "        \n",
    "        nested_fun2()\n",
    "    nested_fun1()\n",
    "\n",
    "enclosing_fun()"
   ]
  },
  {
   "cell_type": "code",
   "execution_count": 48,
   "metadata": {},
   "outputs": [
    {
     "name": "stdout",
     "output_type": "stream",
     "text": [
      "enclosing_fun: local\n",
      "nested_fun: global\n",
      "nested_fun: global\n"
     ]
    }
   ],
   "source": [
    "def nested_fun1():\n",
    "        print('nested_fun:', x)\n",
    "        def nested_fun2():\n",
    "            print('nested_fun:', x)\n",
    "        nested_fun2()\n",
    "            \n",
    "def enclosing_fun():\n",
    "    x = 'local'\n",
    "    print('enclosing_fun:', x)\n",
    "    nested_fun1()\n",
    "\n",
    "enclosing_fun()"
   ]
  },
  {
   "cell_type": "markdown",
   "metadata": {},
   "source": [
    "# Python Closure"
   ]
  },
  {
   "cell_type": "code",
   "execution_count": 49,
   "metadata": {},
   "outputs": [
    {
     "name": "stdout",
     "output_type": "stream",
     "text": [
      "nested= NTU\n"
     ]
    }
   ],
   "source": [
    "def enclosing_fun(x):\n",
    "    def nested_fun():\n",
    "        print(\"nested=\", x)\n",
    "    nested_fun()\n",
    "    \n",
    "enclosing_fun(\"NTU\")"
   ]
  },
  {
   "cell_type": "code",
   "execution_count": 50,
   "metadata": {},
   "outputs": [
    {
     "name": "stdout",
     "output_type": "stream",
     "text": [
      "nested= NTU\n"
     ]
    }
   ],
   "source": [
    "def enclosing_fun(x):\n",
    "    def nested_fun1():\n",
    "        def nested_fun2():\n",
    "            print(\"nested=\", x)\n",
    "        nested_fun2()\n",
    "    nested_fun1()\n",
    "    \n",
    "enclosing_fun(\"NTU\")"
   ]
  },
  {
   "cell_type": "code",
   "execution_count": 51,
   "metadata": {},
   "outputs": [
    {
     "name": "stdout",
     "output_type": "stream",
     "text": [
      "nested= NTU\n"
     ]
    }
   ],
   "source": [
    "def enclosing_fun(x):\n",
    "    def nested_fun():\n",
    "        print(\"nested=\", x)\n",
    "    return nested_fun\n",
    "    \n",
    "a = enclosing_fun(\"NTU\")\n",
    "\n",
    "del enclosing_fun\n",
    "a()"
   ]
  },
  {
   "cell_type": "markdown",
   "metadata": {},
   "source": [
    "# Lambda Expressions"
   ]
  },
  {
   "cell_type": "code",
   "execution_count": 52,
   "metadata": {},
   "outputs": [
    {
     "name": "stdout",
     "output_type": "stream",
     "text": [
      "5749\n"
     ]
    }
   ],
   "source": [
    "x = lambda a : a + 183\n",
    "print(x(5566))"
   ]
  },
  {
   "cell_type": "code",
   "execution_count": 53,
   "metadata": {
    "scrolled": true
   },
   "outputs": [
    {
     "name": "stdout",
     "output_type": "stream",
     "text": [
      "5749\n"
     ]
    }
   ],
   "source": [
    "x = lambda a, b : a + b\n",
    "print(x(5566, 183))"
   ]
  },
  {
   "cell_type": "code",
   "execution_count": 54,
   "metadata": {},
   "outputs": [
    {
     "name": "stdout",
     "output_type": "stream",
     "text": [
      "5749\n"
     ]
    }
   ],
   "source": [
    "def myfunc(b):\n",
    "  return lambda a : a + b\n",
    "\n",
    "mydoubler = myfunc(5566)\n",
    "\n",
    "print(mydoubler(183))"
   ]
  }
 ],
 "metadata": {
  "kernelspec": {
   "display_name": "Python 3",
   "language": "python",
   "name": "python3"
  },
  "language_info": {
   "codemirror_mode": {
    "name": "ipython",
    "version": 3
   },
   "file_extension": ".py",
   "mimetype": "text/x-python",
   "name": "python",
   "nbconvert_exporter": "python",
   "pygments_lexer": "ipython3",
   "version": "3.7.4"
  }
 },
 "nbformat": 4,
 "nbformat_minor": 4
}
