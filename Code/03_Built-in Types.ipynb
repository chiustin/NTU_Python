{
 "cells": [
  {
   "cell_type": "markdown",
   "metadata": {},
   "source": [
    "# Variable"
   ]
  },
  {
   "cell_type": "code",
   "execution_count": 1,
   "metadata": {},
   "outputs": [],
   "source": [
    "rho           = 997 #kg/m^3\n",
    "velocity      = 1.00 #m/s\n",
    "diameter      = 0.08 #80mm\n",
    "viscosity     = 0.98 #cP\n",
    "Renold_number = rho * velocity * diameter / viscosity"
   ]
  },
  {
   "cell_type": "markdown",
   "metadata": {},
   "source": [
    "# String"
   ]
  },
  {
   "cell_type": "markdown",
   "metadata": {},
   "source": [
    "## Index"
   ]
  },
  {
   "cell_type": "code",
   "execution_count": 2,
   "metadata": {},
   "outputs": [
    {
     "name": "stdout",
     "output_type": "stream",
     "text": [
      "N\n",
      "E\n",
      "E\n",
      "H\n",
      "N\n"
     ]
    }
   ],
   "source": [
    "a = 'NTUCHE'\n",
    "print(a[0]) # character in position 0 => 'N' \n",
    "print(a[5]) # character in position 5 => 'E'\n",
    "print(a[-1]) # last character => 'E'\n",
    "print(a[-2]) # second-last character => 'H'\n",
    "print(a[-6]) # => 'N'"
   ]
  },
  {
   "cell_type": "markdown",
   "metadata": {},
   "source": [
    "## Slice"
   ]
  },
  {
   "cell_type": "code",
   "execution_count": 3,
   "metadata": {},
   "outputs": [
    {
     "name": "stdout",
     "output_type": "stream",
     "text": [
      "NTU\n",
      "CHE\n",
      "NTU\n",
      "CHE\n",
      "CHE\n",
      "NUH\n",
      "NUH\n",
      "\n",
      "ECT\n",
      "ECT\n"
     ]
    }
   ],
   "source": [
    "a = 'NTUCHE'\n",
    "print(a[0:3]) # characters from position 0 (included) to 2 (excluded) => 'NTU'\n",
    "print(a[3:6]) # characters from position 5 (included) to 7 (excluded) => 'CHE'\n",
    "print(a[:3]) # character from the beginning to position 2 (excluded) => 'NTU' \n",
    "print(a[3:]) # characters from position 5 (included) to the end => 'CHE'\n",
    "print(a[-3:]) # characters from the third-last (included) to the end => 'CHE'\n",
    "print(a[0:6:2]) # => 'NUH'\n",
    "print(a[::2]) # => 'NUH'\n",
    "print(a[0:6:-2]) # => ' '\n",
    "print(a[6:0:-2]) # => 'ECT'\n",
    "print(a[::-2]) # => 'ECT'"
   ]
  },
  {
   "cell_type": "code",
   "execution_count": 4,
   "metadata": {},
   "outputs": [
    {
     "ename": "IndexError",
     "evalue": "string index out of range",
     "output_type": "error",
     "traceback": [
      "\u001b[0;31m---------------------------------------------------------------------------\u001b[0m",
      "\u001b[0;31mIndexError\u001b[0m                                Traceback (most recent call last)",
      "\u001b[0;32m<ipython-input-4-9492d478db74>\u001b[0m in \u001b[0;36m<module>\u001b[0;34m\u001b[0m\n\u001b[0;32m----> 1\u001b[0;31m \u001b[0mprint\u001b[0m\u001b[0;34m(\u001b[0m\u001b[0ma\u001b[0m\u001b[0;34m[\u001b[0m\u001b[0;36m42\u001b[0m\u001b[0;34m]\u001b[0m\u001b[0;34m)\u001b[0m \u001b[0;31m# error\u001b[0m\u001b[0;34m\u001b[0m\u001b[0;34m\u001b[0m\u001b[0m\n\u001b[0m",
      "\u001b[0;31mIndexError\u001b[0m: string index out of range"
     ]
    }
   ],
   "source": [
    "print(a[42]) # error"
   ]
  },
  {
   "cell_type": "code",
   "execution_count": 5,
   "metadata": {},
   "outputs": [
    {
     "name": "stdout",
     "output_type": "stream",
     "text": [
      "CHE\n",
      "\n",
      "NTUCHE\n"
     ]
    }
   ],
   "source": [
    "a = 'NTUCHE'\n",
    "print(a[3:42]) # => 'CHE'\n",
    "print(a[42:]) # => ' '\n",
    "print(a[:]) # => 'NTUCHE'"
   ]
  },
  {
   "cell_type": "markdown",
   "metadata": {},
   "source": [
    "## Immutable"
   ]
  },
  {
   "cell_type": "code",
   "execution_count": 6,
   "metadata": {},
   "outputs": [
    {
     "ename": "SyntaxError",
     "evalue": "keyword can't be an expression (<ipython-input-6-8d4402deb826>, line 2)",
     "output_type": "error",
     "traceback": [
      "\u001b[0;36m  File \u001b[0;32m\"<ipython-input-6-8d4402deb826>\"\u001b[0;36m, line \u001b[0;32m2\u001b[0m\n\u001b[0;31m    print(a[0] = 'C') # error\u001b[0m\n\u001b[0m         ^\u001b[0m\n\u001b[0;31mSyntaxError\u001b[0m\u001b[0;31m:\u001b[0m keyword can't be an expression\n"
     ]
    }
   ],
   "source": [
    "a = 'NTUCHE'\n",
    "print(a[0] = 'C') # error\n",
    "print(a[2:] = 'NU') # error"
   ]
  },
  {
   "cell_type": "markdown",
   "metadata": {},
   "source": [
    "## len"
   ]
  },
  {
   "cell_type": "code",
   "execution_count": 7,
   "metadata": {},
   "outputs": [
    {
     "name": "stdout",
     "output_type": "stream",
     "text": [
      "6\n"
     ]
    }
   ],
   "source": [
    "a = 'NTUCHE'\n",
    "print(len(a)) # => 6"
   ]
  },
  {
   "cell_type": "markdown",
   "metadata": {},
   "source": [
    "## Operators"
   ]
  },
  {
   "cell_type": "code",
   "execution_count": 8,
   "metadata": {},
   "outputs": [
    {
     "name": "stdout",
     "output_type": "stream",
     "text": [
      "NTUCHE\n",
      "NTUNTU\n"
     ]
    }
   ],
   "source": [
    "a = 'NTUCHE'\n",
    "print(a[:2] + a[2:]) # => 'NTUCHE' \n",
    "print(a[:3] * 2) # => 'NTUNTU'"
   ]
  },
  {
   "cell_type": "markdown",
   "metadata": {},
   "source": [
    "# List"
   ]
  },
  {
   "cell_type": "markdown",
   "metadata": {},
   "source": [
    "## Index"
   ]
  },
  {
   "cell_type": "code",
   "execution_count": 9,
   "metadata": {},
   "outputs": [
    {
     "name": "stdout",
     "output_type": "stream",
     "text": [
      "1\n",
      "11\n"
     ]
    }
   ],
   "source": [
    "a = [1, 3, 5, 7, 9, 11]\n",
    "print(a[0]) # indexing returns the item 1 \n",
    "print(a[-1]) # => 11"
   ]
  },
  {
   "cell_type": "markdown",
   "metadata": {},
   "source": [
    "## Slice"
   ]
  },
  {
   "cell_type": "code",
   "execution_count": 10,
   "metadata": {},
   "outputs": [
    {
     "name": "stdout",
     "output_type": "stream",
     "text": [
      "[1, 3]\n",
      "[9, 11]\n",
      "[1, 3]\n",
      "[9, 11]\n",
      "[1, 5, 9]\n",
      "[1, 5, 9]\n",
      "[11, 7, 3]\n",
      "[]\n",
      "[11, 7, 3]\n",
      "[1, 3, 5, 7, 9, 11]\n"
     ]
    }
   ],
   "source": [
    "print(a[0:2]) # => [1, 3]\n",
    "print(a[4:6]) # => [9, 11] \n",
    "print(a[:2]) # => [1, 3] \n",
    "print(a[4:]) # => [9, 11]\n",
    "print(a[0:6:2]) # => [1, 5, 9] \n",
    "print(a[::2]) # => [1, 5, 9] \n",
    "print(a[6:0:-2]) # => [11, 7, 3]\n",
    "print(a[0:6:-2]) # => [ ]  \n",
    "print(a[::-2]) # => [11, 7, 3]\n",
    "print(a[:]) # => [1, 3, 5, 7, 9, 11]"
   ]
  },
  {
   "cell_type": "markdown",
   "metadata": {},
   "source": [
    "## Mutable"
   ]
  },
  {
   "cell_type": "code",
   "execution_count": 11,
   "metadata": {},
   "outputs": [
    {
     "name": "stdout",
     "output_type": "stream",
     "text": [
      "[1, 3, 5, 7, 9, 13]\n"
     ]
    }
   ],
   "source": [
    "a[-1] = 13\n",
    "print(a) # => [1, 3, 5, 7, 9, 13]"
   ]
  },
  {
   "cell_type": "markdown",
   "metadata": {},
   "source": [
    "## len"
   ]
  },
  {
   "cell_type": "code",
   "execution_count": 12,
   "metadata": {},
   "outputs": [
    {
     "name": "stdout",
     "output_type": "stream",
     "text": [
      "6\n"
     ]
    }
   ],
   "source": [
    "print(len(a)) # => 6"
   ]
  },
  {
   "cell_type": "markdown",
   "metadata": {},
   "source": [
    "## Operators"
   ]
  },
  {
   "cell_type": "code",
   "execution_count": 13,
   "metadata": {},
   "outputs": [
    {
     "name": "stdout",
     "output_type": "stream",
     "text": [
      "[1, 3]\n",
      "[1, 3, 5, 7]\n",
      "[1, 3, 5, 7, 1, 3, 5, 7]\n"
     ]
    }
   ],
   "source": [
    "a = [1, 3]; print(a)\n",
    "a += [5, 7]; print(a) # => [1, 3, 5, 7]\n",
    "a *= 2; print(a) # => [1, 3, 5, 7, 1, 3, 5, 7]"
   ]
  },
  {
   "cell_type": "markdown",
   "metadata": {},
   "source": [
    "# Mutability"
   ]
  },
  {
   "cell_type": "code",
   "execution_count": 14,
   "metadata": {
    "scrolled": true
   },
   "outputs": [
    {
     "name": "stdout",
     "output_type": "stream",
     "text": [
      "Print1: a = [1] , b = [1] , c = [1]\n",
      "Print2: a = [2] , b = [2] , c = [2]\n",
      "Print3: a = [3] , b = [3] , c = [3]\n",
      "Print4: a = [4] , b = [4] , c = [4]\n"
     ]
    }
   ],
   "source": [
    "a = [1,]\n",
    "c = b = a #a must be placed at the last position\n",
    "print('Print1:', 'a =', a, ', b =', b, ', c =', c)\n",
    "\n",
    "a[0] = 2\n",
    "print('Print2:', 'a =', a, ', b =', b, ', c =', c)\n",
    "\n",
    "b[0] = 3\n",
    "print('Print3:', 'a =', a, ', b =', b, ', c =', c)\n",
    "\n",
    "c[0] = 4\n",
    "print('Print4:', 'a =', a, ', b =', b, ', c =', c)"
   ]
  },
  {
   "cell_type": "markdown",
   "metadata": {},
   "source": [
    "# Dynamic"
   ]
  },
  {
   "cell_type": "code",
   "execution_count": 15,
   "metadata": {
    "scrolled": true
   },
   "outputs": [
    {
     "name": "stdout",
     "output_type": "stream",
     "text": [
      "Print1: a = [1] , b = [1] , c = [1]\n",
      "Print2: a = [1, 2] , b = [1, 2] , c = [1, 2]\n",
      "Print3: a = [1, 2, 3] , b = [1, 2, 3] , c = [1, 2, 3]\n"
     ]
    }
   ],
   "source": [
    "a = [1,]\n",
    "c = b = a #a must be placed at the last position\n",
    "print('Print1:', 'a =', a, ', b =', b, ', c =', c)\n",
    "\n",
    "a.append(2) \n",
    "print('Print2:', 'a =', a, ', b =', b, ', c =', c)\n",
    "\n",
    "b += [3]\n",
    "print('Print3:', 'a =', a, ', b =', b, ', c =', c)"
   ]
  },
  {
   "cell_type": "markdown",
   "metadata": {},
   "source": [
    "# = vs. +="
   ]
  },
  {
   "cell_type": "code",
   "execution_count": 16,
   "metadata": {},
   "outputs": [
    {
     "name": "stdout",
     "output_type": "stream",
     "text": [
      "Print1: a = [1] , b = [1] , c = [1]\n",
      "Print2: a = [1, 2] , b = [1, 2] , c = [1, 2]\n",
      "Print3: a = [1, 2] , b = [1, 2] , c = [1, 2, 3]\n"
     ]
    }
   ],
   "source": [
    "a = [1,]\n",
    "c = b = a #a must be placed at the last position\n",
    "print('Print1:', 'a =', a, ', b =', b, ', c =', c)\n",
    "\n",
    "b += [2,] #List mutable\n",
    "print('Print2:', 'a =', a, ', b =', b, ', c =', c)\n",
    "\n",
    "c = a + [3,]\n",
    "print('Print3:', 'a =', a, ', b =', b, ', c =', c)"
   ]
  },
  {
   "cell_type": "code",
   "execution_count": 17,
   "metadata": {},
   "outputs": [
    {
     "name": "stdout",
     "output_type": "stream",
     "text": [
      "Print1: a = [1] , b = [1] , c = [1]\n",
      "Print2: a = [3] , b = [3] , c = [3]\n",
      "Print3: a = [3] , b = [3] , c = [3, 4]\n"
     ]
    }
   ],
   "source": [
    "a = [1,]\n",
    "c = b = a #a must be placed at the last position\n",
    "print('Print1:', 'a =', a, ', b =', b, ', c =', c)\n",
    "\n",
    "b[0] = b[0] + 2 #List mutable\n",
    "print('Print2:', 'a =', a, ', b =', b, ', c =', c)\n",
    "\n",
    "c = a + [4,]\n",
    "print('Print3:', 'a =', a, ', b =', b, ', c =', c)"
   ]
  },
  {
   "cell_type": "markdown",
   "metadata": {},
   "source": [
    "# List Copy"
   ]
  },
  {
   "cell_type": "code",
   "execution_count": 18,
   "metadata": {},
   "outputs": [
    {
     "name": "stdout",
     "output_type": "stream",
     "text": [
      "Print: a = [1, 2] , b = [1] , c = [1] , d = [1]\n"
     ]
    }
   ],
   "source": [
    "a = [1,]\n",
    "b = list(a)\n",
    "c = a[:]\n",
    "d = a.copy()\n",
    "\n",
    "a += [2,]\n",
    "print('Print:', 'a =', a, ', b =', b, ', c =', c, ', d =', d)"
   ]
  },
  {
   "cell_type": "markdown",
   "metadata": {},
   "source": [
    "# Shallow Copy vs. Deep Copy"
   ]
  },
  {
   "cell_type": "code",
   "execution_count": 19,
   "metadata": {},
   "outputs": [
    {
     "name": "stdout",
     "output_type": "stream",
     "text": [
      "Shallow copy: a = [1, [2, 3]] , b = [1, [2, 3]]\n",
      "Shallow copy: a = [1, [2, 6]] , b = [5, [2, 6]]\n",
      "Deep copy: a = [1, [2, 3]] , b = [1, [2, 3]]\n",
      "Deep copy: a = [1, [2, 3]] , b = [5, [2, 6]]\n"
     ]
    }
   ],
   "source": [
    "a = [1,[2,3]]\n",
    "b = a.copy()\n",
    "print('Shallow copy: a =', a, ', b =',b)\n",
    "\n",
    "b[0] = 5\n",
    "b[1][1] = 6\n",
    "print('Shallow copy: a =', a, ', b =',b)\n",
    "\n",
    "import copy\n",
    "a = [1,[2,3]]\n",
    "b = copy.deepcopy(a)\n",
    "print('Deep copy: a =', a, ', b =',b)\n",
    "\n",
    "b[0] = 5\n",
    "b[1][1] = 6\n",
    "print('Deep copy: a =', a, ', b =',b)"
   ]
  },
  {
   "cell_type": "markdown",
   "metadata": {},
   "source": [
    "# Mutability vs Immutability"
   ]
  },
  {
   "cell_type": "markdown",
   "metadata": {},
   "source": [
    "# List"
   ]
  },
  {
   "cell_type": "code",
   "execution_count": 20,
   "metadata": {},
   "outputs": [
    {
     "name": "stdout",
     "output_type": "stream",
     "text": [
      "Print1: a = [1] , b = [1]\n",
      "Print2: a = [1, 2] , b = [1, 2]\n"
     ]
    }
   ],
   "source": [
    "a = [1,]\n",
    "b = a #a must be placed at the last position\n",
    "print('Print1:', 'a =', a, ', b =', b)\n",
    "\n",
    "a += [2,]\n",
    "print('Print2:', 'a =', a, ', b =', b)"
   ]
  },
  {
   "cell_type": "markdown",
   "metadata": {},
   "source": [
    "# Tuple"
   ]
  },
  {
   "cell_type": "code",
   "execution_count": 21,
   "metadata": {},
   "outputs": [
    {
     "name": "stdout",
     "output_type": "stream",
     "text": [
      "Print1: a = (1,) , b = (1,)\n",
      "Print2: a = (1, 2) , b = (1,)\n"
     ]
    }
   ],
   "source": [
    "a = (1,)\n",
    "b = a #a must be placed at the last position\n",
    "print('Print1:', 'a =', a, ', b =', b)\n",
    "\n",
    "a += (2,)\n",
    "print('Print2:', 'a =', a, ', b =', b)"
   ]
  },
  {
   "cell_type": "markdown",
   "metadata": {},
   "source": [
    "# Reassigning Tuples"
   ]
  },
  {
   "cell_type": "code",
   "execution_count": 22,
   "metadata": {},
   "outputs": [
    {
     "ename": "TypeError",
     "evalue": "'tuple' object does not support item assignment",
     "output_type": "error",
     "traceback": [
      "\u001b[0;31m---------------------------------------------------------------------------\u001b[0m",
      "\u001b[0;31mTypeError\u001b[0m                                 Traceback (most recent call last)",
      "\u001b[0;32m<ipython-input-22-5b7261a67da2>\u001b[0m in \u001b[0;36m<module>\u001b[0;34m\u001b[0m\n\u001b[1;32m      1\u001b[0m \u001b[0ma\u001b[0m \u001b[0;34m=\u001b[0m \u001b[0;34m(\u001b[0m\u001b[0;36m1\u001b[0m\u001b[0;34m,\u001b[0m \u001b[0;36m2\u001b[0m\u001b[0;34m,\u001b[0m \u001b[0;36m3\u001b[0m\u001b[0;34m,\u001b[0m \u001b[0;34m[\u001b[0m\u001b[0;36m4\u001b[0m\u001b[0;34m,\u001b[0m \u001b[0;36m5\u001b[0m\u001b[0;34m]\u001b[0m\u001b[0;34m)\u001b[0m\u001b[0;34m\u001b[0m\u001b[0;34m\u001b[0m\u001b[0m\n\u001b[0;32m----> 2\u001b[0;31m \u001b[0ma\u001b[0m\u001b[0;34m[\u001b[0m\u001b[0;36m3\u001b[0m\u001b[0;34m]\u001b[0m \u001b[0;34m=\u001b[0m \u001b[0;36m6\u001b[0m\u001b[0;34m\u001b[0m\u001b[0;34m\u001b[0m\u001b[0m\n\u001b[0m",
      "\u001b[0;31mTypeError\u001b[0m: 'tuple' object does not support item assignment"
     ]
    }
   ],
   "source": [
    "a = (1, 2, 3, [4, 5])\n",
    "a[3] = 6"
   ]
  },
  {
   "cell_type": "code",
   "execution_count": 23,
   "metadata": {},
   "outputs": [
    {
     "name": "stdout",
     "output_type": "stream",
     "text": [
      "(1, 2, 3, [6, 5])\n"
     ]
    }
   ],
   "source": [
    "a = (1, 2, 3, [4, 5])\n",
    "a[3][0] = 6           ; print(a)"
   ]
  },
  {
   "cell_type": "markdown",
   "metadata": {},
   "source": [
    "# Range"
   ]
  },
  {
   "cell_type": "markdown",
   "metadata": {},
   "source": [
    "## Index"
   ]
  },
  {
   "cell_type": "code",
   "execution_count": 24,
   "metadata": {},
   "outputs": [
    {
     "name": "stdout",
     "output_type": "stream",
     "text": [
      "2\n",
      "5\n"
     ]
    }
   ],
   "source": [
    "a = range(6)\n",
    "print(a[2]) # => 2\n",
    "print(a[-1]) # => 5"
   ]
  },
  {
   "cell_type": "code",
   "execution_count": 25,
   "metadata": {},
   "outputs": [
    {
     "name": "stdout",
     "output_type": "stream",
     "text": [
      "4\n",
      "10\n"
     ]
    }
   ],
   "source": [
    "a = range(0, 12, 2)\n",
    "print(a[2]) # => 4\n",
    "print(a[-1]) # => 10"
   ]
  },
  {
   "cell_type": "markdown",
   "metadata": {},
   "source": [
    "## Immutable"
   ]
  },
  {
   "cell_type": "code",
   "execution_count": 26,
   "metadata": {},
   "outputs": [
    {
     "ename": "TypeError",
     "evalue": "'range' object does not support item assignment",
     "output_type": "error",
     "traceback": [
      "\u001b[0;31m---------------------------------------------------------------------------\u001b[0m",
      "\u001b[0;31mTypeError\u001b[0m                                 Traceback (most recent call last)",
      "\u001b[0;32m<ipython-input-26-052b8c4fe4c5>\u001b[0m in \u001b[0;36m<module>\u001b[0;34m\u001b[0m\n\u001b[1;32m      1\u001b[0m \u001b[0ma\u001b[0m \u001b[0;34m=\u001b[0m \u001b[0mrange\u001b[0m\u001b[0;34m(\u001b[0m\u001b[0;36m6\u001b[0m\u001b[0;34m)\u001b[0m\u001b[0;34m\u001b[0m\u001b[0;34m\u001b[0m\u001b[0m\n\u001b[0;32m----> 2\u001b[0;31m \u001b[0ma\u001b[0m\u001b[0;34m[\u001b[0m\u001b[0;34m-\u001b[0m\u001b[0;36m1\u001b[0m\u001b[0;34m]\u001b[0m \u001b[0;34m=\u001b[0m \u001b[0;36m13\u001b[0m \u001b[0;31m# error\u001b[0m\u001b[0;34m\u001b[0m\u001b[0;34m\u001b[0m\u001b[0m\n\u001b[0m",
      "\u001b[0;31mTypeError\u001b[0m: 'range' object does not support item assignment"
     ]
    }
   ],
   "source": [
    "a = range(6)\n",
    "a[-1] = 13 # error"
   ]
  },
  {
   "cell_type": "markdown",
   "metadata": {},
   "source": [
    "# Dict"
   ]
  },
  {
   "cell_type": "markdown",
   "metadata": {},
   "source": [
    "## Keys & Values"
   ]
  },
  {
   "cell_type": "code",
   "execution_count": 27,
   "metadata": {},
   "outputs": [
    {
     "name": "stdout",
     "output_type": "stream",
     "text": [
      "1\n",
      "5\n",
      "2.2\n",
      "a\n",
      "c\n"
     ]
    }
   ],
   "source": [
    "a = {'a': 1, 'b': 3, 'c': 5, 'd': 7} \n",
    "print(a['a']) # => 1\n",
    "print(a['c']) # => 5\n",
    "d = {'int': 1, 'float': 2.2, 'bool': True} \n",
    "print(d['float']) # => 2.2\n",
    "d = {(1, 1): 'a', (1, 2): 'b', (2, 1): 'c'} \n",
    "print(d[(1,1)]) # => 'a' \n",
    "print(d[(2,1)]) # => 'c'"
   ]
  },
  {
   "cell_type": "code",
   "execution_count": 28,
   "metadata": {},
   "outputs": [
    {
     "name": "stdout",
     "output_type": "stream",
     "text": [
      "a\n",
      "c\n"
     ]
    }
   ],
   "source": [
    "a = {0: 'a', 1: 'b', 2.2:'c'} \n",
    "print(a[0]) # => 'a'\n",
    "print(a[2.2]) # => 'c'"
   ]
  },
  {
   "cell_type": "markdown",
   "metadata": {},
   "source": [
    "## Mutable"
   ]
  },
  {
   "cell_type": "code",
   "execution_count": 29,
   "metadata": {},
   "outputs": [
    {
     "name": "stdout",
     "output_type": "stream",
     "text": [
      "{'a': 1, 'b': 3, 'c': 5, 'd': 9}\n"
     ]
    }
   ],
   "source": [
    "a = {'a': 1, 'b': 3, 'c': 5, 'd': 7} \n",
    "a['d'] = 9; print(a) # => {'a': 1, 'b': 3, 'c': 5, 'd': 9}"
   ]
  },
  {
   "cell_type": "markdown",
   "metadata": {},
   "source": [
    "## len"
   ]
  },
  {
   "cell_type": "code",
   "execution_count": 30,
   "metadata": {},
   "outputs": [
    {
     "name": "stdout",
     "output_type": "stream",
     "text": [
      "4\n"
     ]
    }
   ],
   "source": [
    "a = {'a': 1, 'b': 3, 'c': 5, 'd': 7} \n",
    "print(len(a)) # => 4"
   ]
  },
  {
   "cell_type": "markdown",
   "metadata": {},
   "source": [
    "## Addition"
   ]
  },
  {
   "cell_type": "code",
   "execution_count": 31,
   "metadata": {},
   "outputs": [
    {
     "name": "stdout",
     "output_type": "stream",
     "text": [
      "{'a': 1, 'b': 2}\n"
     ]
    }
   ],
   "source": [
    "a = {} \n",
    "a['a'] = 1 # => {'a': 1} \n",
    "a['b'] = 2 # => {'a': 1, 'b': 2} \n",
    "print(a)"
   ]
  },
  {
   "cell_type": "markdown",
   "metadata": {},
   "source": [
    "## Deletion"
   ]
  },
  {
   "cell_type": "code",
   "execution_count": 32,
   "metadata": {},
   "outputs": [
    {
     "name": "stdout",
     "output_type": "stream",
     "text": [
      "{'b': 2}\n"
     ]
    }
   ],
   "source": [
    "a = {} \n",
    "a['a'] = 1 # => {'a': 1} \n",
    "a['b'] = 2 # => {'a': 1, 'b': 2} \n",
    "del a['a'] # => {'b': 2} \n",
    "print(a)"
   ]
  },
  {
   "cell_type": "markdown",
   "metadata": {},
   "source": [
    "# Nest Dict { }"
   ]
  },
  {
   "cell_type": "code",
   "execution_count": 33,
   "metadata": {
    "scrolled": true
   },
   "outputs": [
    {
     "name": "stdout",
     "output_type": "stream",
     "text": [
      "Jay\n",
      "['Peter', 'Lynn']\n",
      "Peter\n",
      "{'bro': 'Ping', 'sis': 'Xi'}\n",
      "Ping\n"
     ]
    }
   ],
   "source": [
    "family = {'grandpa': 'Jay', 'parent':['Peter', 'Lynn'], 'children':{'bro': 'Ping', 'sis': 'Xi'}}\n",
    "family['grandpa']         ; print(family['grandpa'])\n",
    "family['parent']          ; print(family['parent'])\n",
    "family['parent'][0]       ; print(family['parent'][0])\n",
    "family['children']        ; print(family['children'])\n",
    "family['children']['bro'] ; print(family['children']['bro'])"
   ]
  },
  {
   "cell_type": "markdown",
   "metadata": {},
   "source": [
    "# Dynamic"
   ]
  },
  {
   "cell_type": "markdown",
   "metadata": {},
   "source": [
    "## update"
   ]
  },
  {
   "cell_type": "code",
   "execution_count": 34,
   "metadata": {},
   "outputs": [
    {
     "name": "stdout",
     "output_type": "stream",
     "text": [
      "{'a': 1, 'b': 2, 'c': 3}\n"
     ]
    }
   ],
   "source": [
    "a = {'a':1}\n",
    "b = {'b':2, 'c':3}\n",
    "a.update(b)\n",
    "print(a)"
   ]
  },
  {
   "cell_type": "markdown",
   "metadata": {},
   "source": [
    "## clear"
   ]
  },
  {
   "cell_type": "code",
   "execution_count": 35,
   "metadata": {},
   "outputs": [
    {
     "name": "stdout",
     "output_type": "stream",
     "text": [
      "{}\n"
     ]
    }
   ],
   "source": [
    "a = {'zero':0, 'one':1}\n",
    "a.clear()\n",
    "print(a)"
   ]
  }
 ],
 "metadata": {
  "kernelspec": {
   "display_name": "Python 3",
   "language": "python",
   "name": "python3"
  },
  "language_info": {
   "codemirror_mode": {
    "name": "ipython",
    "version": 3
   },
   "file_extension": ".py",
   "mimetype": "text/x-python",
   "name": "python",
   "nbconvert_exporter": "python",
   "pygments_lexer": "ipython3",
   "version": "3.7.4"
  }
 },
 "nbformat": 4,
 "nbformat_minor": 2
}
